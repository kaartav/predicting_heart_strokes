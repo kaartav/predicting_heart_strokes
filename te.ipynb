{
 "cells": [
  {
   "cell_type": "code",
   "execution_count": 1,
   "id": "dc2105c1-e2cc-46f7-9695-df22235923c2",
   "metadata": {},
   "outputs": [],
   "source": [
    "import numpy as np\n",
    "import pandas as pd\n",
    "import matplotlib.pyplot as plt\n",
    "%matplotlib inline\n",
    "import seaborn as sns\n",
    "from sklearn.preprocessing import StandardScaler\n",
    "from sklearn.preprocessing import MinMaxScaler\n",
    "# Load the CSV file into a DataFrame\n",
    "#no NAN values\n",
    "df = pd.read_csv(\"./kk.csv\")"
   ]
  },
  {
   "cell_type": "code",
   "execution_count": 2,
   "id": "ddc65a9c-e8c2-4316-9f5a-eef2f8ccafac",
   "metadata": {},
   "outputs": [
    {
     "data": {
      "text/html": [
       "<div>\n",
       "<style scoped>\n",
       "    .dataframe tbody tr th:only-of-type {\n",
       "        vertical-align: middle;\n",
       "    }\n",
       "\n",
       "    .dataframe tbody tr th {\n",
       "        vertical-align: top;\n",
       "    }\n",
       "\n",
       "    .dataframe thead th {\n",
       "        text-align: right;\n",
       "    }\n",
       "</style>\n",
       "<table border=\"1\" class=\"dataframe\">\n",
       "  <thead>\n",
       "    <tr style=\"text-align: right;\">\n",
       "      <th></th>\n",
       "      <th>id</th>\n",
       "      <th>gender</th>\n",
       "      <th>age</th>\n",
       "      <th>hypertension</th>\n",
       "      <th>heart_disease</th>\n",
       "      <th>ever_married</th>\n",
       "      <th>work_type</th>\n",
       "      <th>Residence_type</th>\n",
       "      <th>avg_glucose_level</th>\n",
       "      <th>bmi</th>\n",
       "      <th>smoking_status</th>\n",
       "      <th>stroke</th>\n",
       "    </tr>\n",
       "  </thead>\n",
       "  <tbody>\n",
       "    <tr>\n",
       "      <th>3116</th>\n",
       "      <td>56156</td>\n",
       "      <td>Other</td>\n",
       "      <td>26.0</td>\n",
       "      <td>0</td>\n",
       "      <td>0</td>\n",
       "      <td>No</td>\n",
       "      <td>Private</td>\n",
       "      <td>Rural</td>\n",
       "      <td>143.33</td>\n",
       "      <td>22.4</td>\n",
       "      <td>formerly smoked</td>\n",
       "      <td>0</td>\n",
       "    </tr>\n",
       "  </tbody>\n",
       "</table>\n",
       "</div>"
      ],
      "text/plain": [
       "         id gender   age  hypertension  heart_disease ever_married work_type  \\\n",
       "3116  56156  Other  26.0             0              0           No   Private   \n",
       "\n",
       "     Residence_type  avg_glucose_level   bmi   smoking_status  stroke  \n",
       "3116          Rural             143.33  22.4  formerly smoked       0  "
      ]
     },
     "execution_count": 2,
     "metadata": {},
     "output_type": "execute_result"
    }
   ],
   "source": [
    "df[df['gender']=='Other']"
   ]
  },
  {
   "cell_type": "code",
   "execution_count": null,
   "id": "41fa3be6-7658-45cc-911f-1985a5ce7cd5",
   "metadata": {},
   "outputs": [],
   "source": [
    "df=df.drop(df[df['gender']=='Other'].index)"
   ]
  },
  {
   "cell_type": "code",
   "execution_count": null,
   "id": "ee86e1ad-e1ea-4c99-91f0-39d9179f0dcc",
   "metadata": {},
   "outputs": [],
   "source": []
  },
  {
   "cell_type": "code",
   "execution_count": null,
   "id": "748efe83-7588-40ad-b1a2-19aa02ad9d40",
   "metadata": {},
   "outputs": [],
   "source": []
  },
  {
   "cell_type": "code",
   "execution_count": 2,
   "id": "fca228da-4f50-4b79-b943-dc10100d646b",
   "metadata": {},
   "outputs": [
    {
     "name": "stdout",
     "output_type": "stream",
     "text": [
      "         id   age  hypertension  heart_disease  avg_glucose_level   bmi  \\\n",
      "0      9046  67.0             0              1             228.69  36.6   \n",
      "1     51676  61.0             0              0             202.21   NaN   \n",
      "2     31112  80.0             0              1             105.92  32.5   \n",
      "3     60182  49.0             0              0             171.23  34.4   \n",
      "4      1665  79.0             1              0             174.12  24.0   \n",
      "...     ...   ...           ...            ...                ...   ...   \n",
      "5105  18234  80.0             1              0              83.75   NaN   \n",
      "5106  44873  81.0             0              0             125.20  40.0   \n",
      "5107  19723  35.0             0              0              82.99  30.6   \n",
      "5108  37544  51.0             0              0             166.29  25.6   \n",
      "5109  44679  44.0             0              0              85.28  26.2   \n",
      "\n",
      "      stroke  gender_Female  gender_Male  gender_Other  ...  \\\n",
      "0          1              0            1             0  ...   \n",
      "1          1              1            0             0  ...   \n",
      "2          1              0            1             0  ...   \n",
      "3          1              1            0             0  ...   \n",
      "4          1              1            0             0  ...   \n",
      "...      ...            ...          ...           ...  ...   \n",
      "5105       0              1            0             0  ...   \n",
      "5106       0              1            0             0  ...   \n",
      "5107       0              1            0             0  ...   \n",
      "5108       0              0            1             0  ...   \n",
      "5109       0              1            0             0  ...   \n",
      "\n",
      "      work_type_Never_worked  work_type_Private  work_type_Self-employed  \\\n",
      "0                          0                  1                        0   \n",
      "1                          0                  0                        1   \n",
      "2                          0                  1                        0   \n",
      "3                          0                  1                        0   \n",
      "4                          0                  0                        1   \n",
      "...                      ...                ...                      ...   \n",
      "5105                       0                  1                        0   \n",
      "5106                       0                  0                        1   \n",
      "5107                       0                  0                        1   \n",
      "5108                       0                  1                        0   \n",
      "5109                       0                  0                        0   \n",
      "\n",
      "      work_type_children  Residence_type_Rural  Residence_type_Urban  \\\n",
      "0                      0                     0                     1   \n",
      "1                      0                     1                     0   \n",
      "2                      0                     1                     0   \n",
      "3                      0                     0                     1   \n",
      "4                      0                     1                     0   \n",
      "...                  ...                   ...                   ...   \n",
      "5105                   0                     0                     1   \n",
      "5106                   0                     0                     1   \n",
      "5107                   0                     1                     0   \n",
      "5108                   0                     1                     0   \n",
      "5109                   0                     0                     1   \n",
      "\n",
      "      smoking_status_Unknown  smoking_status_formerly smoked  \\\n",
      "0                          0                               1   \n",
      "1                          0                               0   \n",
      "2                          0                               0   \n",
      "3                          0                               0   \n",
      "4                          0                               0   \n",
      "...                      ...                             ...   \n",
      "5105                       0                               0   \n",
      "5106                       0                               0   \n",
      "5107                       0                               0   \n",
      "5108                       0                               1   \n",
      "5109                       1                               0   \n",
      "\n",
      "      smoking_status_never smoked  smoking_status_smokes  \n",
      "0                               0                      0  \n",
      "1                               1                      0  \n",
      "2                               1                      0  \n",
      "3                               0                      1  \n",
      "4                               1                      0  \n",
      "...                           ...                    ...  \n",
      "5105                            1                      0  \n",
      "5106                            1                      0  \n",
      "5107                            1                      0  \n",
      "5108                            0                      0  \n",
      "5109                            0                      0  \n",
      "\n",
      "[5110 rows x 23 columns]\n"
     ]
    }
   ],
   "source": [
    "dum=pd.get_dummies(df,columns=[\"gender\",\"ever_married\",\"work_type\",\"Residence_type\",\"smoking_status\"])\n",
    "\n",
    "# Convert boolean values to 0 and 1\n",
    "dum = dum * 1\n",
    "print(dum)"
   ]
  },
  {
   "cell_type": "code",
   "execution_count": 3,
   "id": "f527dad8-fae9-423e-a778-42974b86b881",
   "metadata": {},
   "outputs": [],
   "source": [
    "dum= dum.sample(frac=1, random_state=100).reset_index(drop=True)"
   ]
  },
  {
   "cell_type": "code",
   "execution_count": 4,
   "id": "817d2973-d50c-43b8-a93e-627e54f0dd2c",
   "metadata": {},
   "outputs": [],
   "source": [
    "y_tr = dum[['stroke']]"
   ]
  },
  {
   "cell_type": "code",
   "execution_count": 5,
   "id": "61723999-1528-443d-a0b4-dccde8a72a32",
   "metadata": {},
   "outputs": [],
   "source": [
    "y_train = y_tr.iloc[1:4000]\n"
   ]
  },
  {
   "cell_type": "code",
   "execution_count": 6,
   "id": "847c5dde-8bc1-4568-b244-30dc59f4f606",
   "metadata": {},
   "outputs": [],
   "source": [
    "y_test = y_tr.iloc[4000:5110]"
   ]
  },
  {
   "cell_type": "code",
   "execution_count": 7,
   "id": "121eb04f-0a4b-4657-b8f1-d4d55585f5e3",
   "metadata": {},
   "outputs": [],
   "source": [
    "dum = dum.drop('stroke', axis=1)\n",
    "dum = dum.drop('id', axis=1)\n"
   ]
  },
  {
   "cell_type": "code",
   "execution_count": null,
   "id": "63738049-9006-4ad6-a9aa-1f6dbc204aeb",
   "metadata": {},
   "outputs": [],
   "source": []
  },
  {
   "cell_type": "code",
   "execution_count": 8,
   "id": "82a617e8-4376-4d42-b253-2686cdad6332",
   "metadata": {},
   "outputs": [
    {
     "name": "stdout",
     "output_type": "stream",
     "text": [
      "-0.1370593225984694\n",
      "1.5722838665030459\n",
      "1.0553402052962912\n"
     ]
    }
   ],
   "source": [
    "print(df[\"age\"].skew())\n",
    "print(df[\"avg_glucose_level\"].skew())\n",
    "print(df[\"bmi\"].skew())"
   ]
  },
  {
   "cell_type": "code",
   "execution_count": 9,
   "id": "13753c03-752d-4342-ab93-48c74b76e78a",
   "metadata": {},
   "outputs": [
    {
     "name": "stdout",
     "output_type": "stream",
     "text": [
      "-5.300000000000004 61.900000000000006\n"
     ]
    }
   ],
   "source": [
    "IQR = dum[\"bmi\"].quantile(0.75) - dum[\"bmi\"].quantile(0.25)\n",
    "Lower_fence1 = dum[\"bmi\"].quantile(0.25) - (IQR * 3)\n",
    "Upper_fence1 = dum[\"bmi\"].quantile(0.75) + (IQR * 3)\n",
    "print(Lower_fence1,Upper_fence1)"
   ]
  },
  {
   "cell_type": "code",
   "execution_count": 10,
   "id": "4030dc92-439e-467a-a85a-12f2fe043204",
   "metadata": {},
   "outputs": [
    {
     "name": "stdout",
     "output_type": "stream",
     "text": [
      "Empty DataFrame\n",
      "Columns: [age, hypertension, heart_disease, avg_glucose_level, bmi, gender_Female, gender_Male, gender_Other, ever_married_No, ever_married_Yes, work_type_Govt_job, work_type_Never_worked, work_type_Private, work_type_Self-employed, work_type_children, Residence_type_Rural, Residence_type_Urban, smoking_status_Unknown, smoking_status_formerly smoked, smoking_status_never smoked, smoking_status_smokes]\n",
      "Index: []\n",
      "\n",
      "[0 rows x 21 columns]\n"
     ]
    }
   ],
   "source": [
    "dum[\"bmi\"]=np.where(dum[\"bmi\"]>Upper_fence1,Upper_fence1,dum[\"bmi\"])\n",
    "print(dum[dum[\"bmi\"]>Upper_fence1])"
   ]
  },
  {
   "cell_type": "code",
   "execution_count": 11,
   "id": "5ad334e0-1afc-43d7-afe4-f802f746a674",
   "metadata": {},
   "outputs": [
    {
     "name": "stdout",
     "output_type": "stream",
     "text": [
      "-33.28999999999999 224.625\n"
     ]
    }
   ],
   "source": [
    "IQR = dum[\"avg_glucose_level\"].quantile(0.75) - dum[\"avg_glucose_level\"].quantile(0.25)\n",
    "Lower_fence = dum[\"avg_glucose_level\"].quantile(0.25) - (IQR * 3)\n",
    "Upper_fence = dum[\"avg_glucose_level\"].quantile(0.75) + (IQR * 3)\n",
    "print(Lower_fence,Upper_fence)"
   ]
  },
  {
   "cell_type": "code",
   "execution_count": 12,
   "id": "4af59a5f-3ac0-4c54-a627-bff3c976f682",
   "metadata": {},
   "outputs": [
    {
     "name": "stdout",
     "output_type": "stream",
     "text": [
      "Empty DataFrame\n",
      "Columns: [age, hypertension, heart_disease, avg_glucose_level, bmi, gender_Female, gender_Male, gender_Other, ever_married_No, ever_married_Yes, work_type_Govt_job, work_type_Never_worked, work_type_Private, work_type_Self-employed, work_type_children, Residence_type_Rural, Residence_type_Urban, smoking_status_Unknown, smoking_status_formerly smoked, smoking_status_never smoked, smoking_status_smokes]\n",
      "Index: []\n",
      "\n",
      "[0 rows x 21 columns]\n"
     ]
    }
   ],
   "source": [
    "dum[\"avg_glucose_level\"]=np.where(dum[\"avg_glucose_level\"]>Upper_fence,Upper_fence,dum[\"avg_glucose_level\"])\n",
    "print(dum[dum[\"avg_glucose_level\"]>Upper_fence])"
   ]
  },
  {
   "cell_type": "code",
   "execution_count": 13,
   "id": "107ceaec-b233-4c64-81f3-1c93202acc2f",
   "metadata": {},
   "outputs": [
    {
     "name": "stdout",
     "output_type": "stream",
     "text": [
      "Empty DataFrame\n",
      "Columns: [age, hypertension, heart_disease, avg_glucose_level, bmi, gender_Female, gender_Male, gender_Other, ever_married_No, ever_married_Yes, work_type_Govt_job, work_type_Never_worked, work_type_Private, work_type_Self-employed, work_type_children, Residence_type_Rural, Residence_type_Urban, smoking_status_Unknown, smoking_status_formerly smoked, smoking_status_never smoked, smoking_status_smokes]\n",
      "Index: []\n",
      "\n",
      "[0 rows x 21 columns]\n"
     ]
    }
   ],
   "source": [
    "mea = dum['age'].mean()\n",
    "vari = dum['age'].var()\n",
    "\n",
    "upperbound=mea+(3*vari)\n",
    "dum[\"age\"]=np.where(dum[\"age\"]>upperbound,upperbound,dum[\"age\"])\n",
    "print(dum[dum[\"age\"]>upperbound])\n"
   ]
  },
  {
   "cell_type": "code",
   "execution_count": 14,
   "id": "5db647f4-dce8-40ff-856a-a231c7e83a7e",
   "metadata": {},
   "outputs": [],
   "source": [
    "scaler = MinMaxScaler()\n",
    "\n",
    "# Fit and transform the data in the specified column\n",
    "dum['bmi'] = scaler.fit_transform(dum[['bmi']])"
   ]
  },
  {
   "cell_type": "code",
   "execution_count": 15,
   "id": "06af0a7c-e97a-46b1-b9f7-f4658b914f7a",
   "metadata": {},
   "outputs": [],
   "source": [
    "scaler = MinMaxScaler()\n",
    "\n",
    "# Fit and transform the data in the specified column\n",
    "dum['avg_glucose_level'] = scaler.fit_transform(dum[['avg_glucose_level']])"
   ]
  },
  {
   "cell_type": "code",
   "execution_count": 16,
   "id": "00adff4c-eff1-49cf-90a5-c1211e8cc278",
   "metadata": {},
   "outputs": [
    {
     "name": "stdout",
     "output_type": "stream",
     "text": [
      "0       0.874525\n",
      "1       0.830297\n",
      "2       0.476478\n",
      "3      -0.850343\n",
      "4      -0.717660\n",
      "          ...   \n",
      "5105    1.670617\n",
      "5106    0.034205\n",
      "5107    1.582163\n",
      "5108   -0.010023\n",
      "5109    0.830297\n",
      "Name: age, Length: 5110, dtype: float64\n"
     ]
    }
   ],
   "source": [
    "scaler = StandardScaler()\n",
    "\n",
    "# Fit and transform the data in the specified column\n",
    "dum['age'] = scaler.fit_transform(dum[['age']])\n",
    "print(dum['age'])"
   ]
  },
  {
   "cell_type": "code",
   "execution_count": 17,
   "id": "1fba93c9-962e-41a3-81b8-87b3cb621ea6",
   "metadata": {},
   "outputs": [
    {
     "name": "stdout",
     "output_type": "stream",
     "text": [
      "0       0.874525\n",
      "1       0.830297\n",
      "2       0.476478\n",
      "3      -0.850343\n",
      "4      -0.717660\n",
      "          ...   \n",
      "5105    1.670617\n",
      "5106    0.034205\n",
      "5107    1.582163\n",
      "5108   -0.010023\n",
      "5109    0.830297\n",
      "Name: age, Length: 5110, dtype: float64\n"
     ]
    }
   ],
   "source": [
    "scaler = StandardScaler()\n",
    "\n",
    "# Fit and transform the data in the specified column\n",
    "dum['age'] = scaler.fit_transform(dum[['age']])\n",
    "print(dum['age'])"
   ]
  },
  {
   "cell_type": "code",
   "execution_count": 18,
   "id": "f081eff2-84e5-4325-b7fe-a6ba6df6b073",
   "metadata": {},
   "outputs": [],
   "source": [
    "x_train=dum.iloc[1:4000]"
   ]
  },
  {
   "cell_type": "code",
   "execution_count": 19,
   "id": "f6bcbe82-84d4-45bb-8aa1-a1f7e767d945",
   "metadata": {},
   "outputs": [],
   "source": [
    "x_test=dum.iloc[4000:5110]"
   ]
  },
  {
   "cell_type": "code",
   "execution_count": 20,
   "id": "1f449f53-c29f-446a-b97c-fc828c107470",
   "metadata": {},
   "outputs": [],
   "source": [
    "x_train=x_train.drop(\"bmi\",axis=1)"
   ]
  },
  {
   "cell_type": "code",
   "execution_count": 21,
   "id": "f14c82bf-b48a-4723-b1a7-c474ad43d7bb",
   "metadata": {},
   "outputs": [],
   "source": [
    "x_test=x_test.drop(\"bmi\",axis=1)"
   ]
  },
  {
   "cell_type": "code",
   "execution_count": 22,
   "id": "94910edd-79e9-4d03-9511-9bb1d8bdd30c",
   "metadata": {},
   "outputs": [],
   "source": [
    "array_1d = y_train.values.flatten()\n",
    "array_1 = y_test.values.flatten()"
   ]
  },
  {
   "cell_type": "code",
   "execution_count": 23,
   "id": "2b144650-ee51-4467-9204-c3a6ba8d95bc",
   "metadata": {},
   "outputs": [
    {
     "data": {
      "text/html": [
       "<style>#sk-container-id-1 {color: black;}#sk-container-id-1 pre{padding: 0;}#sk-container-id-1 div.sk-toggleable {background-color: white;}#sk-container-id-1 label.sk-toggleable__label {cursor: pointer;display: block;width: 100%;margin-bottom: 0;padding: 0.3em;box-sizing: border-box;text-align: center;}#sk-container-id-1 label.sk-toggleable__label-arrow:before {content: \"▸\";float: left;margin-right: 0.25em;color: #696969;}#sk-container-id-1 label.sk-toggleable__label-arrow:hover:before {color: black;}#sk-container-id-1 div.sk-estimator:hover label.sk-toggleable__label-arrow:before {color: black;}#sk-container-id-1 div.sk-toggleable__content {max-height: 0;max-width: 0;overflow: hidden;text-align: left;background-color: #f0f8ff;}#sk-container-id-1 div.sk-toggleable__content pre {margin: 0.2em;color: black;border-radius: 0.25em;background-color: #f0f8ff;}#sk-container-id-1 input.sk-toggleable__control:checked~div.sk-toggleable__content {max-height: 200px;max-width: 100%;overflow: auto;}#sk-container-id-1 input.sk-toggleable__control:checked~label.sk-toggleable__label-arrow:before {content: \"▾\";}#sk-container-id-1 div.sk-estimator input.sk-toggleable__control:checked~label.sk-toggleable__label {background-color: #d4ebff;}#sk-container-id-1 div.sk-label input.sk-toggleable__control:checked~label.sk-toggleable__label {background-color: #d4ebff;}#sk-container-id-1 input.sk-hidden--visually {border: 0;clip: rect(1px 1px 1px 1px);clip: rect(1px, 1px, 1px, 1px);height: 1px;margin: -1px;overflow: hidden;padding: 0;position: absolute;width: 1px;}#sk-container-id-1 div.sk-estimator {font-family: monospace;background-color: #f0f8ff;border: 1px dotted black;border-radius: 0.25em;box-sizing: border-box;margin-bottom: 0.5em;}#sk-container-id-1 div.sk-estimator:hover {background-color: #d4ebff;}#sk-container-id-1 div.sk-parallel-item::after {content: \"\";width: 100%;border-bottom: 1px solid gray;flex-grow: 1;}#sk-container-id-1 div.sk-label:hover label.sk-toggleable__label {background-color: #d4ebff;}#sk-container-id-1 div.sk-serial::before {content: \"\";position: absolute;border-left: 1px solid gray;box-sizing: border-box;top: 0;bottom: 0;left: 50%;z-index: 0;}#sk-container-id-1 div.sk-serial {display: flex;flex-direction: column;align-items: center;background-color: white;padding-right: 0.2em;padding-left: 0.2em;position: relative;}#sk-container-id-1 div.sk-item {position: relative;z-index: 1;}#sk-container-id-1 div.sk-parallel {display: flex;align-items: stretch;justify-content: center;background-color: white;position: relative;}#sk-container-id-1 div.sk-item::before, #sk-container-id-1 div.sk-parallel-item::before {content: \"\";position: absolute;border-left: 1px solid gray;box-sizing: border-box;top: 0;bottom: 0;left: 50%;z-index: -1;}#sk-container-id-1 div.sk-parallel-item {display: flex;flex-direction: column;z-index: 1;position: relative;background-color: white;}#sk-container-id-1 div.sk-parallel-item:first-child::after {align-self: flex-end;width: 50%;}#sk-container-id-1 div.sk-parallel-item:last-child::after {align-self: flex-start;width: 50%;}#sk-container-id-1 div.sk-parallel-item:only-child::after {width: 0;}#sk-container-id-1 div.sk-dashed-wrapped {border: 1px dashed gray;margin: 0 0.4em 0.5em 0.4em;box-sizing: border-box;padding-bottom: 0.4em;background-color: white;}#sk-container-id-1 div.sk-label label {font-family: monospace;font-weight: bold;display: inline-block;line-height: 1.2em;}#sk-container-id-1 div.sk-label-container {text-align: center;}#sk-container-id-1 div.sk-container {/* jupyter's `normalize.less` sets `[hidden] { display: none; }` but bootstrap.min.css set `[hidden] { display: none !important; }` so we also need the `!important` here to be able to override the default hidden behavior on the sphinx rendered scikit-learn.org. See: https://github.com/scikit-learn/scikit-learn/issues/21755 */display: inline-block !important;position: relative;}#sk-container-id-1 div.sk-text-repr-fallback {display: none;}</style><div id=\"sk-container-id-1\" class=\"sk-top-container\"><div class=\"sk-text-repr-fallback\"><pre>LogisticRegression(C=10, random_state=1000, solver=&#x27;liblinear&#x27;)</pre><b>In a Jupyter environment, please rerun this cell to show the HTML representation or trust the notebook. <br />On GitHub, the HTML representation is unable to render, please try loading this page with nbviewer.org.</b></div><div class=\"sk-container\" hidden><div class=\"sk-item\"><div class=\"sk-estimator sk-toggleable\"><input class=\"sk-toggleable__control sk-hidden--visually\" id=\"sk-estimator-id-1\" type=\"checkbox\" checked><label for=\"sk-estimator-id-1\" class=\"sk-toggleable__label sk-toggleable__label-arrow\">LogisticRegression</label><div class=\"sk-toggleable__content\"><pre>LogisticRegression(C=10, random_state=1000, solver=&#x27;liblinear&#x27;)</pre></div></div></div></div></div>"
      ],
      "text/plain": [
       "LogisticRegression(C=10, random_state=1000, solver='liblinear')"
      ]
     },
     "execution_count": 23,
     "metadata": {},
     "output_type": "execute_result"
    }
   ],
   "source": [
    "# train a logistic regression model on the training set\n",
    "from sklearn.linear_model import LogisticRegression\n",
    "\n",
    "\n",
    "# instantiate the model\n",
    "logreg = LogisticRegression(solver='liblinear', random_state=1000, C=10, max_iter=100)\n",
    "\n",
    "\n",
    "# fit the model\n",
    "logreg.fit(x_train,array_1d)"
   ]
  },
  {
   "cell_type": "code",
   "execution_count": 24,
   "id": "b5b36558-f19a-43f7-b088-539da36ff7f7",
   "metadata": {},
   "outputs": [
    {
     "data": {
      "text/plain": [
       "array([0, 0, 0, ..., 0, 0, 0], dtype=int64)"
      ]
     },
     "execution_count": 24,
     "metadata": {},
     "output_type": "execute_result"
    }
   ],
   "source": [
    "y_pred_test = logreg.predict(x_test)\n",
    "\n",
    "y_pred_test"
   ]
  },
  {
   "cell_type": "code",
   "execution_count": 25,
   "id": "6b2a6d71-87ce-495d-b980-a899be44283a",
   "metadata": {},
   "outputs": [],
   "source": [
    "# import numpy as np\n",
    "# from sklearn.model_selection import GridSearchCV\n",
    "# from sklearn.linear_model import LogisticRegression\n",
    "\n",
    "# # Define the hyperparameters and their possible values\n",
    "# param_grid = {\n",
    "#                # Regularization type\n",
    "#     'C': [0.01,0.1,1,10],  # Inverse of regularization strength\n",
    "#     'solver': ['liblinear','newton-cg']  ,\n",
    "#     # Optimization algorithm\n",
    "#     'max_iter':[100,1000]\n",
    "# }\n",
    "\n",
    "# # Create a Logistic Regression model\n",
    "# logistic_regression = LogisticRegression()\n",
    "\n",
    "# # Create a GridSearchCV object with the Logistic Regression model and hyperparameter grid\n",
    "# grid_search = GridSearchCV(logistic_regression, param_grid, cv=5, scoring='accuracy')\n",
    "\n",
    "# # Assuming you have your data in X_train and y_train\n",
    "# # Perform grid search on your data\n",
    "# grid_search.fit(x_train, array_1d)\n",
    "\n",
    "# # Print the best hyperparameters found by grid search\n",
    "# print(\"Best Hyperparameters: \", grid_search.best_params_)\n",
    "\n",
    "# # Print the best cross-validation score\n",
    "# print(\"Best Cross-Validation Score: {:.2f}\".format(grid_search.best_score_))\n",
    "\n",
    "# # Get the best trained model\n",
    "# best_model = grid_search.best_estimator_\n",
    "\n",
    "# # Now, you can use the best model for predictions\n",
    "# best_model"
   ]
  },
  {
   "cell_type": "code",
   "execution_count": 26,
   "id": "05c1d775-8b1d-4f38-8153-c61c9e4943d7",
   "metadata": {},
   "outputs": [],
   "source": [
    "proba=logreg.predict_proba(x_test)[:,1]"
   ]
  },
  {
   "cell_type": "code",
   "execution_count": 27,
   "id": "71c6ac97-3420-4ca6-a40d-84b7bb40d64a",
   "metadata": {},
   "outputs": [
    {
     "name": "stdout",
     "output_type": "stream",
     "text": [
      "AUC: 0.8628217245892105\n"
     ]
    }
   ],
   "source": [
    "\n",
    "import matplotlib.pyplot as plt\n",
    "from sklearn.datasets import make_classification\n",
    "from sklearn.model_selection import train_test_split\n",
    "\n",
    "from sklearn.metrics import roc_curve, roc_auc_score, auc\n",
    "fpr, tpr, thresholds = roc_curve(array_1, proba)\n",
    "\n",
    "# Calculate AUC\n",
    "roc_auc = auc(fpr, tpr)\n",
    "\n",
    "\n",
    "\n",
    "print(\"AUC:\", roc_auc)"
   ]
  },
  {
   "cell_type": "code",
   "execution_count": null,
   "id": "afa3e713-e92b-4c70-804d-3e276ec323cc",
   "metadata": {},
   "outputs": [],
   "source": []
  }
 ],
 "metadata": {
  "kernelspec": {
   "display_name": "Python 3 (ipykernel)",
   "language": "python",
   "name": "python3"
  },
  "language_info": {
   "codemirror_mode": {
    "name": "ipython",
    "version": 3
   },
   "file_extension": ".py",
   "mimetype": "text/x-python",
   "name": "python",
   "nbconvert_exporter": "python",
   "pygments_lexer": "ipython3",
   "version": "3.11.4"
  }
 },
 "nbformat": 4,
 "nbformat_minor": 5
}
