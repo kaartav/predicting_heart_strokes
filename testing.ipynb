{
 "cells": [
  {
   "cell_type": "code",
   "execution_count": 1,
   "id": "cb3de2c0-999c-40c8-9812-e5951ae9ce51",
   "metadata": {},
   "outputs": [],
   "source": [
    "import numpy as np\n",
    "import pandas as pd\n",
    "from sklearn.preprocessing import StandardScaler\n",
    "from sklearn.preprocessing import MinMaxScaler\n",
    "import seaborn as sns\n",
    "# Load the CSV file into a DataFrame\n",
    "#no NAN values\n",
    "df = pd.read_csv(\"./test.csv\")"
   ]
  },
  {
   "cell_type": "code",
   "execution_count": 2,
   "id": "081ca4bb-52ce-4aab-baea-b917ea68df0a",
   "metadata": {},
   "outputs": [],
   "source": [
    "df.iloc[4629, 1] = 'Male'"
   ]
  },
  {
   "cell_type": "code",
   "execution_count": 3,
   "id": "8c283e7a-0c72-49c4-af34-9590ea7b8bc8",
   "metadata": {},
   "outputs": [],
   "source": [
    "dum=pd.get_dummies(df,columns=[\"gender\",'work_type','ever_married','Residence_type',\"smoking_status\"])\n",
    "\n",
    "# Convert boolean values to 0 and 1\n",
    "dum = dum * 1\n"
   ]
  },
  {
   "cell_type": "code",
   "execution_count": 4,
   "id": "98bd2914-81d4-42fb-a61e-c43368e6b7d7",
   "metadata": {},
   "outputs": [],
   "source": [
    "dum = dum.drop('id', axis=1)\n",
    "# dum = dum.drop('work_type', axis=1)\n",
    "# dum = dum.drop('ever_married', axis=1)\n",
    "# dum = dum.drop('Residence_type', axis=1)"
   ]
  },
  {
   "cell_type": "code",
   "execution_count": 5,
   "id": "e0742413-0f97-4562-a0cd-26671cf316c3",
   "metadata": {},
   "outputs": [
    {
     "name": "stdout",
     "output_type": "stream",
     "text": [
      "-0.11412091938067653\n",
      "3.0657200241835607\n",
      "0.8624258583977021\n"
     ]
    }
   ],
   "source": [
    "print(dum[\"age\"].skew())\n",
    "print(dum[\"avg_glucose_level\"].skew())\n",
    "print(dum[\"bmi\"].skew())"
   ]
  },
  {
   "cell_type": "code",
   "execution_count": 6,
   "id": "dd1a709f-4b70-4251-a7f6-4783093f0c21",
   "metadata": {},
   "outputs": [
    {
     "name": "stdout",
     "output_type": "stream",
     "text": [
      "-17.800000000000004 73.9\n"
     ]
    }
   ],
   "source": [
    "IQR = dum[\"bmi\"].quantile(0.85) - dum[\"bmi\"].quantile(0.15)\n",
    "Lower_fence1 = dum[\"bmi\"].quantile(0.15) - (IQR * 3)\n",
    "Upper_fence1 = dum[\"bmi\"].quantile(0.85) + (IQR * 3)\n",
    "print(Lower_fence1,Upper_fence1)"
   ]
  },
  {
   "cell_type": "code",
   "execution_count": 7,
   "id": "8004c107-d3d3-4ab9-b615-24dc71407f21",
   "metadata": {},
   "outputs": [
    {
     "name": "stdout",
     "output_type": "stream",
     "text": [
      "Empty DataFrame\n",
      "Columns: [age, hypertension, heart_disease, avg_glucose_level, bmi, gender_Female, gender_Male, work_type_Govt_job, work_type_Never_worked, work_type_Private, work_type_Self-employed, work_type_children, ever_married_No, ever_married_Yes, Residence_type_Rural, Residence_type_Urban, smoking_status_Unknown, smoking_status_formerly smoked, smoking_status_never smoked, smoking_status_smokes]\n",
      "Index: []\n"
     ]
    }
   ],
   "source": [
    "dum[\"bmi\"]=np.where(dum[\"bmi\"]>Upper_fence1,Upper_fence1,dum[\"bmi\"])\n",
    "print(dum[dum[\"bmi\"]>Upper_fence1])"
   ]
  },
  {
   "cell_type": "code",
   "execution_count": 8,
   "id": "fc2466c9-ad01-4baa-accb-1a42bcab8df4",
   "metadata": {},
   "outputs": [
    {
     "name": "stdout",
     "output_type": "stream",
     "text": [
      "-30.34549999999983 203.09399999999977\n"
     ]
    }
   ],
   "source": [
    "IQR = dum[\"avg_glucose_level\"].quantile(0.85) - dum[\"avg_glucose_level\"].quantile(0.15)\n",
    "Lower_fence = dum[\"avg_glucose_level\"].quantile(0.15) - (IQR * 3)\n",
    "Upper_fence = dum[\"avg_glucose_level\"].quantile(0.85) + (IQR * 3)\n",
    "print(Lower_fence,Upper_fence)"
   ]
  },
  {
   "cell_type": "code",
   "execution_count": 9,
   "id": "02492d94-9266-4afe-891a-d74b240add9b",
   "metadata": {},
   "outputs": [
    {
     "name": "stdout",
     "output_type": "stream",
     "text": [
      "Empty DataFrame\n",
      "Columns: [age, hypertension, heart_disease, avg_glucose_level, bmi, gender_Female, gender_Male, work_type_Govt_job, work_type_Never_worked, work_type_Private, work_type_Self-employed, work_type_children, ever_married_No, ever_married_Yes, Residence_type_Rural, Residence_type_Urban, smoking_status_Unknown, smoking_status_formerly smoked, smoking_status_never smoked, smoking_status_smokes]\n",
      "Index: []\n"
     ]
    }
   ],
   "source": [
    "dum[\"avg_glucose_level\"]=np.where(dum[\"avg_glucose_level\"]>Upper_fence,Upper_fence,dum[\"avg_glucose_level\"])\n",
    "print(dum[dum[\"avg_glucose_level\"]>Upper_fence])"
   ]
  },
  {
   "cell_type": "code",
   "execution_count": 10,
   "id": "5b19c012-7e94-4226-8df8-20d4b3765e89",
   "metadata": {},
   "outputs": [
    {
     "name": "stdout",
     "output_type": "stream",
     "text": [
      "Empty DataFrame\n",
      "Columns: [age, hypertension, heart_disease, avg_glucose_level, bmi, gender_Female, gender_Male, work_type_Govt_job, work_type_Never_worked, work_type_Private, work_type_Self-employed, work_type_children, ever_married_No, ever_married_Yes, Residence_type_Rural, Residence_type_Urban, smoking_status_Unknown, smoking_status_formerly smoked, smoking_status_never smoked, smoking_status_smokes]\n",
      "Index: []\n"
     ]
    }
   ],
   "source": [
    "mea = dum['age'].mean()\n",
    "vari = dum['age'].var()\n",
    "\n",
    "upperbound=mea+(5*vari)\n",
    "dum[\"age\"]=np.where(dum[\"age\"]>upperbound,upperbound,dum[\"age\"])\n",
    "print(dum[dum[\"age\"]>upperbound])\n"
   ]
  },
  {
   "cell_type": "code",
   "execution_count": 11,
   "id": "fdbf2de4-08b6-4b86-9ec0-181238bb2ab0",
   "metadata": {},
   "outputs": [],
   "source": [
    "scaler = MinMaxScaler()\n",
    "\n",
    "# Fit and transform the data in the specified column\n",
    "dum['bmi'] = scaler.fit_transform(dum[['bmi']])"
   ]
  },
  {
   "cell_type": "code",
   "execution_count": 12,
   "id": "8ccd066b-a7ed-481a-be97-6122e59a5623",
   "metadata": {},
   "outputs": [],
   "source": [
    "\n",
    "\n",
    "\n",
    "dum['avg_glucose_level'] = scaler.fit_transform(dum[['avg_glucose_level']])"
   ]
  },
  {
   "cell_type": "code",
   "execution_count": 13,
   "id": "287f4a37-d0c5-4d44-bfe7-5d3883a21434",
   "metadata": {},
   "outputs": [],
   "source": [
    "dum['age'] = scaler.fit_transform(dum[['age']])"
   ]
  },
  {
   "cell_type": "code",
   "execution_count": 14,
   "id": "97d8d156-b1ce-41fd-be16-b2a6eda55f9f",
   "metadata": {},
   "outputs": [
    {
     "data": {
      "text/html": [
       "<div>\n",
       "<style scoped>\n",
       "    .dataframe tbody tr th:only-of-type {\n",
       "        vertical-align: middle;\n",
       "    }\n",
       "\n",
       "    .dataframe tbody tr th {\n",
       "        vertical-align: top;\n",
       "    }\n",
       "\n",
       "    .dataframe thead th {\n",
       "        text-align: right;\n",
       "    }\n",
       "</style>\n",
       "<table border=\"1\" class=\"dataframe\">\n",
       "  <thead>\n",
       "    <tr style=\"text-align: right;\">\n",
       "      <th></th>\n",
       "      <th>age</th>\n",
       "      <th>hypertension</th>\n",
       "      <th>heart_disease</th>\n",
       "      <th>avg_glucose_level</th>\n",
       "      <th>bmi</th>\n",
       "      <th>gender_Female</th>\n",
       "      <th>gender_Male</th>\n",
       "      <th>work_type_Govt_job</th>\n",
       "      <th>work_type_Never_worked</th>\n",
       "      <th>work_type_Private</th>\n",
       "      <th>work_type_Self-employed</th>\n",
       "      <th>work_type_children</th>\n",
       "      <th>ever_married_No</th>\n",
       "      <th>ever_married_Yes</th>\n",
       "      <th>Residence_type_Rural</th>\n",
       "      <th>Residence_type_Urban</th>\n",
       "      <th>smoking_status_Unknown</th>\n",
       "      <th>smoking_status_formerly smoked</th>\n",
       "      <th>smoking_status_never smoked</th>\n",
       "      <th>smoking_status_smokes</th>\n",
       "    </tr>\n",
       "  </thead>\n",
       "  <tbody>\n",
       "    <tr>\n",
       "      <th>0</th>\n",
       "      <td>0.694824</td>\n",
       "      <td>0</td>\n",
       "      <td>0</td>\n",
       "      <td>0.185303</td>\n",
       "      <td>0.350962</td>\n",
       "      <td>1</td>\n",
       "      <td>0</td>\n",
       "      <td>0</td>\n",
       "      <td>0</td>\n",
       "      <td>1</td>\n",
       "      <td>0</td>\n",
       "      <td>0</td>\n",
       "      <td>0</td>\n",
       "      <td>1</td>\n",
       "      <td>1</td>\n",
       "      <td>0</td>\n",
       "      <td>1</td>\n",
       "      <td>0</td>\n",
       "      <td>0</td>\n",
       "      <td>0</td>\n",
       "    </tr>\n",
       "    <tr>\n",
       "      <th>1</th>\n",
       "      <td>0.853516</td>\n",
       "      <td>1</td>\n",
       "      <td>0</td>\n",
       "      <td>0.114480</td>\n",
       "      <td>0.272436</td>\n",
       "      <td>0</td>\n",
       "      <td>1</td>\n",
       "      <td>0</td>\n",
       "      <td>0</td>\n",
       "      <td>1</td>\n",
       "      <td>0</td>\n",
       "      <td>0</td>\n",
       "      <td>0</td>\n",
       "      <td>1</td>\n",
       "      <td>0</td>\n",
       "      <td>1</td>\n",
       "      <td>1</td>\n",
       "      <td>0</td>\n",
       "      <td>0</td>\n",
       "      <td>0</td>\n",
       "    </tr>\n",
       "    <tr>\n",
       "      <th>2</th>\n",
       "      <td>0.060059</td>\n",
       "      <td>0</td>\n",
       "      <td>0</td>\n",
       "      <td>0.328436</td>\n",
       "      <td>0.128205</td>\n",
       "      <td>1</td>\n",
       "      <td>0</td>\n",
       "      <td>0</td>\n",
       "      <td>0</td>\n",
       "      <td>0</td>\n",
       "      <td>0</td>\n",
       "      <td>1</td>\n",
       "      <td>1</td>\n",
       "      <td>0</td>\n",
       "      <td>0</td>\n",
       "      <td>1</td>\n",
       "      <td>1</td>\n",
       "      <td>0</td>\n",
       "      <td>0</td>\n",
       "      <td>0</td>\n",
       "    </tr>\n",
       "    <tr>\n",
       "      <th>3</th>\n",
       "      <td>0.682617</td>\n",
       "      <td>0</td>\n",
       "      <td>0</td>\n",
       "      <td>0.095422</td>\n",
       "      <td>0.479167</td>\n",
       "      <td>1</td>\n",
       "      <td>0</td>\n",
       "      <td>1</td>\n",
       "      <td>0</td>\n",
       "      <td>0</td>\n",
       "      <td>0</td>\n",
       "      <td>0</td>\n",
       "      <td>0</td>\n",
       "      <td>1</td>\n",
       "      <td>0</td>\n",
       "      <td>1</td>\n",
       "      <td>0</td>\n",
       "      <td>0</td>\n",
       "      <td>0</td>\n",
       "      <td>1</td>\n",
       "    </tr>\n",
       "    <tr>\n",
       "      <th>4</th>\n",
       "      <td>0.389648</td>\n",
       "      <td>0</td>\n",
       "      <td>0</td>\n",
       "      <td>0.378648</td>\n",
       "      <td>0.298077</td>\n",
       "      <td>0</td>\n",
       "      <td>1</td>\n",
       "      <td>0</td>\n",
       "      <td>0</td>\n",
       "      <td>1</td>\n",
       "      <td>0</td>\n",
       "      <td>0</td>\n",
       "      <td>0</td>\n",
       "      <td>1</td>\n",
       "      <td>1</td>\n",
       "      <td>0</td>\n",
       "      <td>0</td>\n",
       "      <td>0</td>\n",
       "      <td>0</td>\n",
       "      <td>1</td>\n",
       "    </tr>\n",
       "  </tbody>\n",
       "</table>\n",
       "</div>"
      ],
      "text/plain": [
       "        age  hypertension  heart_disease  avg_glucose_level       bmi  \\\n",
       "0  0.694824             0              0           0.185303  0.350962   \n",
       "1  0.853516             1              0           0.114480  0.272436   \n",
       "2  0.060059             0              0           0.328436  0.128205   \n",
       "3  0.682617             0              0           0.095422  0.479167   \n",
       "4  0.389648             0              0           0.378648  0.298077   \n",
       "\n",
       "   gender_Female  gender_Male  work_type_Govt_job  work_type_Never_worked  \\\n",
       "0              1            0                   0                       0   \n",
       "1              0            1                   0                       0   \n",
       "2              1            0                   0                       0   \n",
       "3              1            0                   1                       0   \n",
       "4              0            1                   0                       0   \n",
       "\n",
       "   work_type_Private  work_type_Self-employed  work_type_children  \\\n",
       "0                  1                        0                   0   \n",
       "1                  1                        0                   0   \n",
       "2                  0                        0                   1   \n",
       "3                  0                        0                   0   \n",
       "4                  1                        0                   0   \n",
       "\n",
       "   ever_married_No  ever_married_Yes  Residence_type_Rural  \\\n",
       "0                0                 1                     1   \n",
       "1                0                 1                     0   \n",
       "2                1                 0                     0   \n",
       "3                0                 1                     0   \n",
       "4                0                 1                     1   \n",
       "\n",
       "   Residence_type_Urban  smoking_status_Unknown  \\\n",
       "0                     0                       1   \n",
       "1                     1                       1   \n",
       "2                     1                       1   \n",
       "3                     1                       0   \n",
       "4                     0                       0   \n",
       "\n",
       "   smoking_status_formerly smoked  smoking_status_never smoked  \\\n",
       "0                               0                            0   \n",
       "1                               0                            0   \n",
       "2                               0                            0   \n",
       "3                               0                            0   \n",
       "4                               0                            0   \n",
       "\n",
       "   smoking_status_smokes  \n",
       "0                      0  \n",
       "1                      0  \n",
       "2                      0  \n",
       "3                      1  \n",
       "4                      1  "
      ]
     },
     "execution_count": 14,
     "metadata": {},
     "output_type": "execute_result"
    }
   ],
   "source": [
    "dum.head()"
   ]
  },
  {
   "cell_type": "code",
   "execution_count": 15,
   "id": "16baa348-76be-4ac9-86c9-c28cd9b48ea8",
   "metadata": {},
   "outputs": [],
   "source": [
    "dum.to_csv('x_testnew.csv', index=False)\n"
   ]
  },
  {
   "cell_type": "code",
   "execution_count": 16,
   "id": "95ad29d7-3b2a-4255-b81b-85e487d01b31",
   "metadata": {},
   "outputs": [
    {
     "data": {
      "text/plain": [
       "(10204, 20)"
      ]
     },
     "execution_count": 16,
     "metadata": {},
     "output_type": "execute_result"
    }
   ],
   "source": [
    "df = pd.read_csv(\"./x_testnew.csv\")\n",
    "df.shape"
   ]
  }
 ],
 "metadata": {
  "kernelspec": {
   "display_name": "Python 3 (ipykernel)",
   "language": "python",
   "name": "python3"
  },
  "language_info": {
   "codemirror_mode": {
    "name": "ipython",
    "version": 3
   },
   "file_extension": ".py",
   "mimetype": "text/x-python",
   "name": "python",
   "nbconvert_exporter": "python",
   "pygments_lexer": "ipython3",
   "version": "3.11.4"
  }
 },
 "nbformat": 4,
 "nbformat_minor": 5
}
