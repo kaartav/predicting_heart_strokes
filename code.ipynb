{
 "cells": [
  {
   "cell_type": "code",
   "execution_count": 1,
   "id": "a48cd529-6107-4605-86c9-12da0afb15c4",
   "metadata": {},
   "outputs": [],
   "source": [
    "import numpy as np\n",
    "import pandas as pd\n",
    "import matplotlib.pyplot as plt\n",
    "%matplotlib inline\n",
    "import seaborn as sns\n",
    "from sklearn.preprocessing import StandardScaler\n",
    "from sklearn.preprocessing import MinMaxScaler\n",
    "\n",
    "df = pd.read_csv(\"./train.csv\")"
   ]
  },
  {
   "cell_type": "code",
   "execution_count": 2,
   "id": "446dfb6f-2c64-41ae-af3c-1b765c18a5fe",
   "metadata": {},
   "outputs": [
    {
     "data": {
      "text/plain": [
       "(15304, 12)"
      ]
     },
     "execution_count": 2,
     "metadata": {},
     "output_type": "execute_result"
    }
   ],
   "source": [
    "df.shape"
   ]
  },
  {
   "cell_type": "code",
   "execution_count": 3,
   "id": "b7ba8396-3990-4ece-9d1a-007f49a1be56",
   "metadata": {},
   "outputs": [
    {
     "data": {
      "text/plain": [
       "Index(['id', 'gender', 'age', 'hypertension', 'heart_disease', 'ever_married',\n",
       "       'work_type', 'Residence_type', 'avg_glucose_level', 'bmi',\n",
       "       'smoking_status', 'stroke'],\n",
       "      dtype='object')"
      ]
     },
     "execution_count": 3,
     "metadata": {},
     "output_type": "execute_result"
    }
   ],
   "source": [
    "col_namesssss = df.columns\n",
    "\n",
    "col_namesssss"
   ]
  },
  {
   "cell_type": "code",
   "execution_count": 4,
   "id": "716e519c-d23f-420a-a534-52e6535b06c3",
   "metadata": {
    "scrolled": true
   },
   "outputs": [
    {
     "name": "stdout",
     "output_type": "stream",
     "text": [
      "There are 5 categorical variables\n",
      "\n",
      "The categorical variables are : ['gender', 'ever_married', 'work_type', 'Residence_type', 'smoking_status']\n"
     ]
    }
   ],
   "source": [
    "categorical = [var for var in df.columns if df[var].dtype=='O']\n",
    "\n",
    "print('There are {} categorical variables\\n'.format(len(categorical)))\n",
    "\n",
    "print('The categorical variables are :', categorical)"
   ]
  },
  {
   "cell_type": "code",
   "execution_count": 5,
   "id": "38c69c4a-5a13-48b9-9ec7-9edcd568ceb0",
   "metadata": {
    "scrolled": true
   },
   "outputs": [
    {
     "name": "stdout",
     "output_type": "stream",
     "text": [
      "gender\n",
      "Female    9446\n",
      "Male      5857\n",
      "Other        1\n",
      "Name: count, dtype: int64\n",
      "ever_married\n",
      "Yes    10385\n",
      "No      4919\n",
      "Name: count, dtype: int64\n",
      "work_type\n",
      "Private          9752\n",
      "children         2038\n",
      "Self-employed    1939\n",
      "Govt_job         1533\n",
      "Never_worked       42\n",
      "Name: count, dtype: int64\n",
      "Residence_type\n",
      "Rural    7664\n",
      "Urban    7640\n",
      "Name: count, dtype: int64\n",
      "smoking_status\n",
      "never smoked       6281\n",
      "Unknown            4543\n",
      "formerly smoked    2337\n",
      "smokes             2143\n",
      "Name: count, dtype: int64\n"
     ]
    }
   ],
   "source": [
    "for var in categorical: \n",
    "    \n",
    "    print(df[var].value_counts())"
   ]
  },
  {
   "cell_type": "markdown",
   "id": "590b0e5e-ac41-40c5-9836-0bdbe69d5ba0",
   "metadata": {},
   "source": [
    "# one hot encoding the catogory variables"
   ]
  },
  {
   "cell_type": "code",
   "execution_count": 6,
   "id": "30bcca95-172a-49ac-8a2e-92d601314220",
   "metadata": {
    "scrolled": true
   },
   "outputs": [
    {
     "name": "stdout",
     "output_type": "stream",
     "text": [
      "          id   age  hypertension  heart_disease  avg_glucose_level   bmi  \\\n",
      "0          0  28.0             0              0              79.53  31.1   \n",
      "1          1  33.0             0              0              78.44  23.9   \n",
      "2          2  42.0             0              0             103.00  40.3   \n",
      "3          3  56.0             0              0              64.87  28.8   \n",
      "4          4  24.0             0              0              73.36  28.8   \n",
      "...      ...   ...           ...            ...                ...   ...   \n",
      "15299  15299  22.0             0              0              72.63  19.5   \n",
      "15300  15300  46.0             1              0             101.19  32.1   \n",
      "15301  15301  75.0             0              0              87.69  26.2   \n",
      "15302  15302  46.0             0              0             101.13  22.5   \n",
      "15303  15303  14.0             0              0              85.12  24.7   \n",
      "\n",
      "       stroke  gender_Female  gender_Male  gender_Other  ...  \\\n",
      "0           0              0            1             0  ...   \n",
      "1           0              0            1             0  ...   \n",
      "2           0              1            0             0  ...   \n",
      "3           0              0            1             0  ...   \n",
      "4           0              1            0             0  ...   \n",
      "...       ...            ...          ...           ...  ...   \n",
      "15299       0              1            0             0  ...   \n",
      "15300       0              1            0             0  ...   \n",
      "15301       0              1            0             0  ...   \n",
      "15302       0              0            1             0  ...   \n",
      "15303       0              1            0             0  ...   \n",
      "\n",
      "       work_type_Never_worked  work_type_Private  work_type_Self-employed  \\\n",
      "0                           0                  1                        0   \n",
      "1                           0                  1                        0   \n",
      "2                           0                  1                        0   \n",
      "3                           0                  1                        0   \n",
      "4                           0                  1                        0   \n",
      "...                       ...                ...                      ...   \n",
      "15299                       0                  0                        0   \n",
      "15300                       0                  1                        0   \n",
      "15301                       0                  0                        1   \n",
      "15302                       0                  1                        0   \n",
      "15303                       0                  1                        0   \n",
      "\n",
      "       work_type_children  Residence_type_Rural  Residence_type_Urban  \\\n",
      "0                       0                     0                     1   \n",
      "1                       0                     1                     0   \n",
      "2                       0                     1                     0   \n",
      "3                       0                     0                     1   \n",
      "4                       0                     1                     0   \n",
      "...                   ...                   ...                   ...   \n",
      "15299                   0                     0                     1   \n",
      "15300                   0                     0                     1   \n",
      "15301                   0                     0                     1   \n",
      "15302                   0                     1                     0   \n",
      "15303                   0                     1                     0   \n",
      "\n",
      "       smoking_status_Unknown  smoking_status_formerly smoked  \\\n",
      "0                           0                               0   \n",
      "1                           0                               1   \n",
      "2                           1                               0   \n",
      "3                           0                               0   \n",
      "4                           0                               0   \n",
      "...                       ...                             ...   \n",
      "15299                       0                               0   \n",
      "15300                       0                               0   \n",
      "15301                       0                               0   \n",
      "15302                       1                               0   \n",
      "15303                       0                               0   \n",
      "\n",
      "       smoking_status_never smoked  smoking_status_smokes  \n",
      "0                                1                      0  \n",
      "1                                0                      0  \n",
      "2                                0                      0  \n",
      "3                                1                      0  \n",
      "4                                1                      0  \n",
      "...                            ...                    ...  \n",
      "15299                            1                      0  \n",
      "15300                            1                      0  \n",
      "15301                            1                      0  \n",
      "15302                            0                      0  \n",
      "15303                            1                      0  \n",
      "\n",
      "[15304 rows x 23 columns]\n"
     ]
    }
   ],
   "source": [
    "dum=pd.get_dummies(df,columns=[\"gender\",\"ever_married\",\"work_type\",\"Residence_type\",\"smoking_status\"])\n",
    "\n",
    "# Convert boolean values to 0 and 1\n",
    "dum = dum * 1\n",
    "print(dum)"
   ]
  },
  {
   "cell_type": "code",
   "execution_count": 7,
   "id": "99c1c816-f8c7-4669-a2f3-30a6c45289db",
   "metadata": {},
   "outputs": [
    {
     "name": "stdout",
     "output_type": "stream",
     "text": [
      "0        0\n",
      "1        0\n",
      "2        0\n",
      "3        0\n",
      "4        0\n",
      "        ..\n",
      "15299    0\n",
      "15300    0\n",
      "15301    0\n",
      "15302    0\n",
      "15303    0\n",
      "Name: stroke, Length: 15304, dtype: int64\n"
     ]
    }
   ],
   "source": [
    "y_train=df[\"stroke\"]\n",
    "print(y_train)"
   ]
  },
  {
   "cell_type": "code",
   "execution_count": 8,
   "id": "ae9b7644-2dfb-4ec0-82a5-e9e8226ac46b",
   "metadata": {},
   "outputs": [
    {
     "name": "stdout",
     "output_type": "stream",
     "text": [
      "        age  hypertension  heart_disease  avg_glucose_level   bmi  \\\n",
      "0      28.0             0              0              79.53  31.1   \n",
      "1      33.0             0              0              78.44  23.9   \n",
      "2      42.0             0              0             103.00  40.3   \n",
      "3      56.0             0              0              64.87  28.8   \n",
      "4      24.0             0              0              73.36  28.8   \n",
      "...     ...           ...            ...                ...   ...   \n",
      "15299  22.0             0              0              72.63  19.5   \n",
      "15300  46.0             1              0             101.19  32.1   \n",
      "15301  75.0             0              0              87.69  26.2   \n",
      "15302  46.0             0              0             101.13  22.5   \n",
      "15303  14.0             0              0              85.12  24.7   \n",
      "\n",
      "       gender_Female  gender_Male  gender_Other  ever_married_No  \\\n",
      "0                  0            1             0                0   \n",
      "1                  0            1             0                0   \n",
      "2                  1            0             0                0   \n",
      "3                  0            1             0                0   \n",
      "4                  1            0             0                1   \n",
      "...              ...          ...           ...              ...   \n",
      "15299              1            0             0                1   \n",
      "15300              1            0             0                0   \n",
      "15301              1            0             0                0   \n",
      "15302              0            1             0                0   \n",
      "15303              1            0             0                1   \n",
      "\n",
      "       ever_married_Yes  ...  work_type_Never_worked  work_type_Private  \\\n",
      "0                     1  ...                       0                  1   \n",
      "1                     1  ...                       0                  1   \n",
      "2                     1  ...                       0                  1   \n",
      "3                     1  ...                       0                  1   \n",
      "4                     0  ...                       0                  1   \n",
      "...                 ...  ...                     ...                ...   \n",
      "15299                 0  ...                       0                  0   \n",
      "15300                 1  ...                       0                  1   \n",
      "15301                 1  ...                       0                  0   \n",
      "15302                 1  ...                       0                  1   \n",
      "15303                 0  ...                       0                  1   \n",
      "\n",
      "       work_type_Self-employed  work_type_children  Residence_type_Rural  \\\n",
      "0                            0                   0                     0   \n",
      "1                            0                   0                     1   \n",
      "2                            0                   0                     1   \n",
      "3                            0                   0                     0   \n",
      "4                            0                   0                     1   \n",
      "...                        ...                 ...                   ...   \n",
      "15299                        0                   0                     0   \n",
      "15300                        0                   0                     0   \n",
      "15301                        1                   0                     0   \n",
      "15302                        0                   0                     1   \n",
      "15303                        0                   0                     1   \n",
      "\n",
      "       Residence_type_Urban  smoking_status_Unknown  \\\n",
      "0                         1                       0   \n",
      "1                         0                       0   \n",
      "2                         0                       1   \n",
      "3                         1                       0   \n",
      "4                         0                       0   \n",
      "...                     ...                     ...   \n",
      "15299                     1                       0   \n",
      "15300                     1                       0   \n",
      "15301                     1                       0   \n",
      "15302                     0                       1   \n",
      "15303                     0                       0   \n",
      "\n",
      "       smoking_status_formerly smoked  smoking_status_never smoked  \\\n",
      "0                                   0                            1   \n",
      "1                                   1                            0   \n",
      "2                                   0                            0   \n",
      "3                                   0                            1   \n",
      "4                                   0                            1   \n",
      "...                               ...                          ...   \n",
      "15299                               0                            1   \n",
      "15300                               0                            1   \n",
      "15301                               0                            1   \n",
      "15302                               0                            0   \n",
      "15303                               0                            1   \n",
      "\n",
      "       smoking_status_smokes  \n",
      "0                          0  \n",
      "1                          0  \n",
      "2                          0  \n",
      "3                          0  \n",
      "4                          0  \n",
      "...                      ...  \n",
      "15299                      0  \n",
      "15300                      0  \n",
      "15301                      0  \n",
      "15302                      0  \n",
      "15303                      0  \n",
      "\n",
      "[15304 rows x 21 columns]\n"
     ]
    }
   ],
   "source": [
    "dum = dum.drop('stroke', axis=1)\n",
    "dum = dum.drop('id', axis=1)\n",
    "print(dum)"
   ]
  },
  {
   "cell_type": "markdown",
   "id": "3738689e-2c81-44ea-94d8-0a31b912c7c2",
   "metadata": {},
   "source": [
    "# for numeric columns"
   ]
  },
  {
   "cell_type": "code",
   "execution_count": 9,
   "id": "a9c1049d-71f8-4930-98b8-427d6a9d020a",
   "metadata": {},
   "outputs": [
    {
     "name": "stdout",
     "output_type": "stream",
     "text": [
      "The numeric variables are : ['id', 'age', 'hypertension', 'heart_disease', 'avg_glucose_level', 'bmi', 'stroke']\n"
     ]
    }
   ],
   "source": [
    "numericol = [var for var in df.columns if df[var].dtype!='O']\n",
    "\n",
    "print('The numeric variables are :', numericol)"
   ]
  },
  {
   "cell_type": "code",
   "execution_count": 10,
   "id": "5dcc8fc8-ddb5-4c15-a9cc-3849f1857ade",
   "metadata": {},
   "outputs": [
    {
     "name": "stdout",
     "output_type": "stream",
     "text": [
      "-0.10357889874530196\n",
      "3.0372415072996914\n",
      "0.71305081171682\n"
     ]
    }
   ],
   "source": [
    "print(df[\"age\"].skew())\n",
    "print(df[\"avg_glucose_level\"].skew())\n",
    "print(df[\"bmi\"].skew())"
   ]
  },
  {
   "cell_type": "markdown",
   "id": "5ca389c6-2b02-4084-9e6e-27da163b6575",
   "metadata": {},
   "source": [
    "# making data efficient,capping outliners"
   ]
  },
  {
   "cell_type": "code",
   "execution_count": 11,
   "id": "32d30cdc-effc-46d2-a555-2ded6b15bf3c",
   "metadata": {},
   "outputs": [
    {
     "name": "stdout",
     "output_type": "stream",
     "text": [
      "-2.0 57.5\n"
     ]
    }
   ],
   "source": [
    "IQR = dum[\"bmi\"].quantile(0.75) - dum[\"bmi\"].quantile(0.25)\n",
    "Lower_fence1 = dum[\"bmi\"].quantile(0.25) - (IQR * 3)\n",
    "Upper_fence1 = dum[\"bmi\"].quantile(0.75) + (IQR * 3)\n",
    "print(Lower_fence1,Upper_fence1)"
   ]
  },
  {
   "cell_type": "code",
   "execution_count": 12,
   "id": "4d854bf7-aa2d-40d1-a5cb-c6215b9d6033",
   "metadata": {},
   "outputs": [
    {
     "name": "stdout",
     "output_type": "stream",
     "text": [
      "Empty DataFrame\n",
      "Columns: [age, hypertension, heart_disease, avg_glucose_level, bmi, gender_Female, gender_Male, gender_Other, ever_married_No, ever_married_Yes, work_type_Govt_job, work_type_Never_worked, work_type_Private, work_type_Self-employed, work_type_children, Residence_type_Rural, Residence_type_Urban, smoking_status_Unknown, smoking_status_formerly smoked, smoking_status_never smoked, smoking_status_smokes]\n",
      "Index: []\n",
      "\n",
      "[0 rows x 21 columns]\n"
     ]
    }
   ],
   "source": [
    "dum[\"bmi\"]=np.where(dum[\"bmi\"]>Upper_fence1,Upper_fence1,dum[\"bmi\"])\n",
    "print(dum[dum[\"bmi\"]>Upper_fence1])"
   ]
  },
  {
   "cell_type": "code",
   "execution_count": 13,
   "id": "b0641a0c-711d-4012-93de-f648af8734fe",
   "metadata": {},
   "outputs": [
    {
     "name": "stdout",
     "output_type": "stream",
     "text": [
      "8.66000000000001 163.22\n"
     ]
    }
   ],
   "source": [
    "IQR = dum[\"avg_glucose_level\"].quantile(0.75) - dum[\"avg_glucose_level\"].quantile(0.25)\n",
    "Lower_fence = dum[\"avg_glucose_level\"].quantile(0.25) - (IQR * 3)\n",
    "Upper_fence = dum[\"avg_glucose_level\"].quantile(0.75) + (IQR * 3)\n",
    "print(Lower_fence,Upper_fence)"
   ]
  },
  {
   "cell_type": "code",
   "execution_count": 14,
   "id": "b35387b7-c7b0-468d-a53b-66b097dd8cb2",
   "metadata": {},
   "outputs": [
    {
     "name": "stdout",
     "output_type": "stream",
     "text": [
      "Empty DataFrame\n",
      "Columns: [age, hypertension, heart_disease, avg_glucose_level, bmi, gender_Female, gender_Male, gender_Other, ever_married_No, ever_married_Yes, work_type_Govt_job, work_type_Never_worked, work_type_Private, work_type_Self-employed, work_type_children, Residence_type_Rural, Residence_type_Urban, smoking_status_Unknown, smoking_status_formerly smoked, smoking_status_never smoked, smoking_status_smokes]\n",
      "Index: []\n",
      "\n",
      "[0 rows x 21 columns]\n"
     ]
    }
   ],
   "source": [
    "dum[\"avg_glucose_level\"]=np.where(dum[\"avg_glucose_level\"]>Upper_fence,Upper_fence,dum[\"avg_glucose_level\"])\n",
    "print(dum[dum[\"avg_glucose_level\"]>Upper_fence])"
   ]
  },
  {
   "cell_type": "code",
   "execution_count": 15,
   "id": "c9c261a8-b6f0-4025-ae07-0b0acba4fe4e",
   "metadata": {},
   "outputs": [
    {
     "name": "stdout",
     "output_type": "stream",
     "text": [
      "Empty DataFrame\n",
      "Columns: [age, hypertension, heart_disease, avg_glucose_level, bmi, gender_Female, gender_Male, gender_Other, ever_married_No, ever_married_Yes, work_type_Govt_job, work_type_Never_worked, work_type_Private, work_type_Self-employed, work_type_children, Residence_type_Rural, Residence_type_Urban, smoking_status_Unknown, smoking_status_formerly smoked, smoking_status_never smoked, smoking_status_smokes]\n",
      "Index: []\n",
      "\n",
      "[0 rows x 21 columns]\n"
     ]
    }
   ],
   "source": [
    "mea = dum['age'].mean()\n",
    "vari = dum['age'].var()\n",
    "\n",
    "upperbound=mea+(3*vari)\n",
    "dum[\"age\"]=np.where(dum[\"age\"]>upperbound,upperbound,dum[\"age\"])\n",
    "print(dum[dum[\"age\"]>upperbound])\n"
   ]
  },
  {
   "cell_type": "markdown",
   "id": "0280cab9-f1ec-420e-83c6-c9f187510d0e",
   "metadata": {},
   "source": [
    "# scaling using min max scaler"
   ]
  },
  {
   "cell_type": "code",
   "execution_count": 16,
   "id": "bafc48d4-bb71-45d0-9953-131290de1148",
   "metadata": {},
   "outputs": [],
   "source": [
    "scaler = MinMaxScaler()\n",
    "\n",
    "# Fit and transform the data in the specified column\n",
    "dum['bmi'] = scaler.fit_transform(dum[['bmi']])"
   ]
  },
  {
   "cell_type": "code",
   "execution_count": 17,
   "id": "2238b504-f1b1-4405-bf93-6230a7ce1049",
   "metadata": {},
   "outputs": [
    {
     "name": "stdout",
     "output_type": "stream",
     "text": [
      "0        0.440678\n",
      "1        0.288136\n",
      "2        0.635593\n",
      "3        0.391949\n",
      "4        0.391949\n",
      "           ...   \n",
      "15299    0.194915\n",
      "15300    0.461864\n",
      "15301    0.336864\n",
      "15302    0.258475\n",
      "15303    0.305085\n",
      "Name: bmi, Length: 15304, dtype: float64\n"
     ]
    }
   ],
   "source": [
    "print(dum['bmi'])"
   ]
  },
  {
   "cell_type": "code",
   "execution_count": 18,
   "id": "bfeeaea8-3340-483a-a6fa-d425c5bd2065",
   "metadata": {},
   "outputs": [],
   "source": [
    "scaler = MinMaxScaler()\n",
    "\n",
    "dum['avg_glucose_level'] = scaler.fit_transform(dum[['avg_glucose_level']])"
   ]
  },
  {
   "cell_type": "code",
   "execution_count": 19,
   "id": "042bef1c-dec8-48d1-9273-b286bd348dc5",
   "metadata": {},
   "outputs": [
    {
     "name": "stdout",
     "output_type": "stream",
     "text": [
      "0        0.225093\n",
      "1        0.215000\n",
      "2        0.442407\n",
      "3        0.089352\n",
      "4        0.167963\n",
      "           ...   \n",
      "15299    0.161204\n",
      "15300    0.425648\n",
      "15301    0.300648\n",
      "15302    0.425093\n",
      "15303    0.276852\n",
      "Name: avg_glucose_level, Length: 15304, dtype: float64\n"
     ]
    }
   ],
   "source": [
    "print(dum['avg_glucose_level'])"
   ]
  },
  {
   "cell_type": "code",
   "execution_count": 20,
   "id": "60872888-0df0-4c8e-8dfe-e119ddbf24a5",
   "metadata": {},
   "outputs": [
    {
     "name": "stdout",
     "output_type": "stream",
     "text": [
      "0       -0.625710\n",
      "1       -0.392544\n",
      "2        0.027154\n",
      "3        0.680018\n",
      "4       -0.812243\n",
      "           ...   \n",
      "15299   -0.905509\n",
      "15300    0.213687\n",
      "15301    1.566048\n",
      "15302    0.213687\n",
      "15303   -1.278574\n",
      "Name: age, Length: 15304, dtype: float64\n"
     ]
    }
   ],
   "source": [
    "scaler = StandardScaler()\n",
    "\n",
    "dum['age'] = scaler.fit_transform(dum[['age']])\n",
    "print(dum['age'])"
   ]
  },
  {
   "cell_type": "code",
   "execution_count": 21,
   "id": "20d444d4-83a5-41f1-a912-a4b1e941fe38",
   "metadata": {},
   "outputs": [
    {
     "data": {
      "text/plain": [
       "count    1.530400e+04\n",
       "mean    -2.757857e-16\n",
       "std      1.000033e+00\n",
       "min     -1.927708e+00\n",
       "25%     -7.189763e-01\n",
       "50%      7.378727e-02\n",
       "75%      7.266514e-01\n",
       "max      1.892480e+00\n",
       "Name: age, dtype: float64"
      ]
     },
     "execution_count": 21,
     "metadata": {},
     "output_type": "execute_result"
    }
   ],
   "source": [
    "dum[\"age\"].describe()"
   ]
  },
  {
   "cell_type": "code",
   "execution_count": 22,
   "id": "919dc65d-1deb-4742-9433-fe6894bd2161",
   "metadata": {
    "scrolled": true
   },
   "outputs": [
    {
     "data": {
      "text/html": [
       "<div>\n",
       "<style scoped>\n",
       "    .dataframe tbody tr th:only-of-type {\n",
       "        vertical-align: middle;\n",
       "    }\n",
       "\n",
       "    .dataframe tbody tr th {\n",
       "        vertical-align: top;\n",
       "    }\n",
       "\n",
       "    .dataframe thead th {\n",
       "        text-align: right;\n",
       "    }\n",
       "</style>\n",
       "<table border=\"1\" class=\"dataframe\">\n",
       "  <thead>\n",
       "    <tr style=\"text-align: right;\">\n",
       "      <th></th>\n",
       "      <th>age</th>\n",
       "      <th>hypertension</th>\n",
       "      <th>heart_disease</th>\n",
       "      <th>avg_glucose_level</th>\n",
       "      <th>bmi</th>\n",
       "      <th>gender_Female</th>\n",
       "      <th>gender_Male</th>\n",
       "      <th>gender_Other</th>\n",
       "      <th>ever_married_No</th>\n",
       "      <th>ever_married_Yes</th>\n",
       "      <th>...</th>\n",
       "      <th>work_type_Never_worked</th>\n",
       "      <th>work_type_Private</th>\n",
       "      <th>work_type_Self-employed</th>\n",
       "      <th>work_type_children</th>\n",
       "      <th>Residence_type_Rural</th>\n",
       "      <th>Residence_type_Urban</th>\n",
       "      <th>smoking_status_Unknown</th>\n",
       "      <th>smoking_status_formerly smoked</th>\n",
       "      <th>smoking_status_never smoked</th>\n",
       "      <th>smoking_status_smokes</th>\n",
       "    </tr>\n",
       "  </thead>\n",
       "  <tbody>\n",
       "    <tr>\n",
       "      <th>0</th>\n",
       "      <td>-0.625710</td>\n",
       "      <td>0</td>\n",
       "      <td>0</td>\n",
       "      <td>0.225093</td>\n",
       "      <td>0.440678</td>\n",
       "      <td>0</td>\n",
       "      <td>1</td>\n",
       "      <td>0</td>\n",
       "      <td>0</td>\n",
       "      <td>1</td>\n",
       "      <td>...</td>\n",
       "      <td>0</td>\n",
       "      <td>1</td>\n",
       "      <td>0</td>\n",
       "      <td>0</td>\n",
       "      <td>0</td>\n",
       "      <td>1</td>\n",
       "      <td>0</td>\n",
       "      <td>0</td>\n",
       "      <td>1</td>\n",
       "      <td>0</td>\n",
       "    </tr>\n",
       "    <tr>\n",
       "      <th>1</th>\n",
       "      <td>-0.392544</td>\n",
       "      <td>0</td>\n",
       "      <td>0</td>\n",
       "      <td>0.215000</td>\n",
       "      <td>0.288136</td>\n",
       "      <td>0</td>\n",
       "      <td>1</td>\n",
       "      <td>0</td>\n",
       "      <td>0</td>\n",
       "      <td>1</td>\n",
       "      <td>...</td>\n",
       "      <td>0</td>\n",
       "      <td>1</td>\n",
       "      <td>0</td>\n",
       "      <td>0</td>\n",
       "      <td>1</td>\n",
       "      <td>0</td>\n",
       "      <td>0</td>\n",
       "      <td>1</td>\n",
       "      <td>0</td>\n",
       "      <td>0</td>\n",
       "    </tr>\n",
       "    <tr>\n",
       "      <th>2</th>\n",
       "      <td>0.027154</td>\n",
       "      <td>0</td>\n",
       "      <td>0</td>\n",
       "      <td>0.442407</td>\n",
       "      <td>0.635593</td>\n",
       "      <td>1</td>\n",
       "      <td>0</td>\n",
       "      <td>0</td>\n",
       "      <td>0</td>\n",
       "      <td>1</td>\n",
       "      <td>...</td>\n",
       "      <td>0</td>\n",
       "      <td>1</td>\n",
       "      <td>0</td>\n",
       "      <td>0</td>\n",
       "      <td>1</td>\n",
       "      <td>0</td>\n",
       "      <td>1</td>\n",
       "      <td>0</td>\n",
       "      <td>0</td>\n",
       "      <td>0</td>\n",
       "    </tr>\n",
       "    <tr>\n",
       "      <th>3</th>\n",
       "      <td>0.680018</td>\n",
       "      <td>0</td>\n",
       "      <td>0</td>\n",
       "      <td>0.089352</td>\n",
       "      <td>0.391949</td>\n",
       "      <td>0</td>\n",
       "      <td>1</td>\n",
       "      <td>0</td>\n",
       "      <td>0</td>\n",
       "      <td>1</td>\n",
       "      <td>...</td>\n",
       "      <td>0</td>\n",
       "      <td>1</td>\n",
       "      <td>0</td>\n",
       "      <td>0</td>\n",
       "      <td>0</td>\n",
       "      <td>1</td>\n",
       "      <td>0</td>\n",
       "      <td>0</td>\n",
       "      <td>1</td>\n",
       "      <td>0</td>\n",
       "    </tr>\n",
       "    <tr>\n",
       "      <th>4</th>\n",
       "      <td>-0.812243</td>\n",
       "      <td>0</td>\n",
       "      <td>0</td>\n",
       "      <td>0.167963</td>\n",
       "      <td>0.391949</td>\n",
       "      <td>1</td>\n",
       "      <td>0</td>\n",
       "      <td>0</td>\n",
       "      <td>1</td>\n",
       "      <td>0</td>\n",
       "      <td>...</td>\n",
       "      <td>0</td>\n",
       "      <td>1</td>\n",
       "      <td>0</td>\n",
       "      <td>0</td>\n",
       "      <td>1</td>\n",
       "      <td>0</td>\n",
       "      <td>0</td>\n",
       "      <td>0</td>\n",
       "      <td>1</td>\n",
       "      <td>0</td>\n",
       "    </tr>\n",
       "  </tbody>\n",
       "</table>\n",
       "<p>5 rows × 21 columns</p>\n",
       "</div>"
      ],
      "text/plain": [
       "        age  hypertension  heart_disease  avg_glucose_level       bmi  \\\n",
       "0 -0.625710             0              0           0.225093  0.440678   \n",
       "1 -0.392544             0              0           0.215000  0.288136   \n",
       "2  0.027154             0              0           0.442407  0.635593   \n",
       "3  0.680018             0              0           0.089352  0.391949   \n",
       "4 -0.812243             0              0           0.167963  0.391949   \n",
       "\n",
       "   gender_Female  gender_Male  gender_Other  ever_married_No  \\\n",
       "0              0            1             0                0   \n",
       "1              0            1             0                0   \n",
       "2              1            0             0                0   \n",
       "3              0            1             0                0   \n",
       "4              1            0             0                1   \n",
       "\n",
       "   ever_married_Yes  ...  work_type_Never_worked  work_type_Private  \\\n",
       "0                 1  ...                       0                  1   \n",
       "1                 1  ...                       0                  1   \n",
       "2                 1  ...                       0                  1   \n",
       "3                 1  ...                       0                  1   \n",
       "4                 0  ...                       0                  1   \n",
       "\n",
       "   work_type_Self-employed  work_type_children  Residence_type_Rural  \\\n",
       "0                        0                   0                     0   \n",
       "1                        0                   0                     1   \n",
       "2                        0                   0                     1   \n",
       "3                        0                   0                     0   \n",
       "4                        0                   0                     1   \n",
       "\n",
       "   Residence_type_Urban  smoking_status_Unknown  \\\n",
       "0                     1                       0   \n",
       "1                     0                       0   \n",
       "2                     0                       1   \n",
       "3                     1                       0   \n",
       "4                     0                       0   \n",
       "\n",
       "   smoking_status_formerly smoked  smoking_status_never smoked  \\\n",
       "0                               0                            1   \n",
       "1                               1                            0   \n",
       "2                               0                            0   \n",
       "3                               0                            1   \n",
       "4                               0                            1   \n",
       "\n",
       "   smoking_status_smokes  \n",
       "0                      0  \n",
       "1                      0  \n",
       "2                      0  \n",
       "3                      0  \n",
       "4                      0  \n",
       "\n",
       "[5 rows x 21 columns]"
      ]
     },
     "execution_count": 22,
     "metadata": {},
     "output_type": "execute_result"
    }
   ],
   "source": [
    "dum.head()"
   ]
  },
  {
   "cell_type": "markdown",
   "id": "dd64b6b1-c748-4403-bbd8-ea6e7f3b11f2",
   "metadata": {},
   "source": [
    "# training"
   ]
  },
  {
   "cell_type": "code",
   "execution_count": 23,
   "id": "82b9319d-9639-461b-a354-7b9e26a5cfee",
   "metadata": {},
   "outputs": [
    {
     "data": {
      "text/html": [
       "<style>#sk-container-id-1 {color: black;}#sk-container-id-1 pre{padding: 0;}#sk-container-id-1 div.sk-toggleable {background-color: white;}#sk-container-id-1 label.sk-toggleable__label {cursor: pointer;display: block;width: 100%;margin-bottom: 0;padding: 0.3em;box-sizing: border-box;text-align: center;}#sk-container-id-1 label.sk-toggleable__label-arrow:before {content: \"▸\";float: left;margin-right: 0.25em;color: #696969;}#sk-container-id-1 label.sk-toggleable__label-arrow:hover:before {color: black;}#sk-container-id-1 div.sk-estimator:hover label.sk-toggleable__label-arrow:before {color: black;}#sk-container-id-1 div.sk-toggleable__content {max-height: 0;max-width: 0;overflow: hidden;text-align: left;background-color: #f0f8ff;}#sk-container-id-1 div.sk-toggleable__content pre {margin: 0.2em;color: black;border-radius: 0.25em;background-color: #f0f8ff;}#sk-container-id-1 input.sk-toggleable__control:checked~div.sk-toggleable__content {max-height: 200px;max-width: 100%;overflow: auto;}#sk-container-id-1 input.sk-toggleable__control:checked~label.sk-toggleable__label-arrow:before {content: \"▾\";}#sk-container-id-1 div.sk-estimator input.sk-toggleable__control:checked~label.sk-toggleable__label {background-color: #d4ebff;}#sk-container-id-1 div.sk-label input.sk-toggleable__control:checked~label.sk-toggleable__label {background-color: #d4ebff;}#sk-container-id-1 input.sk-hidden--visually {border: 0;clip: rect(1px 1px 1px 1px);clip: rect(1px, 1px, 1px, 1px);height: 1px;margin: -1px;overflow: hidden;padding: 0;position: absolute;width: 1px;}#sk-container-id-1 div.sk-estimator {font-family: monospace;background-color: #f0f8ff;border: 1px dotted black;border-radius: 0.25em;box-sizing: border-box;margin-bottom: 0.5em;}#sk-container-id-1 div.sk-estimator:hover {background-color: #d4ebff;}#sk-container-id-1 div.sk-parallel-item::after {content: \"\";width: 100%;border-bottom: 1px solid gray;flex-grow: 1;}#sk-container-id-1 div.sk-label:hover label.sk-toggleable__label {background-color: #d4ebff;}#sk-container-id-1 div.sk-serial::before {content: \"\";position: absolute;border-left: 1px solid gray;box-sizing: border-box;top: 0;bottom: 0;left: 50%;z-index: 0;}#sk-container-id-1 div.sk-serial {display: flex;flex-direction: column;align-items: center;background-color: white;padding-right: 0.2em;padding-left: 0.2em;position: relative;}#sk-container-id-1 div.sk-item {position: relative;z-index: 1;}#sk-container-id-1 div.sk-parallel {display: flex;align-items: stretch;justify-content: center;background-color: white;position: relative;}#sk-container-id-1 div.sk-item::before, #sk-container-id-1 div.sk-parallel-item::before {content: \"\";position: absolute;border-left: 1px solid gray;box-sizing: border-box;top: 0;bottom: 0;left: 50%;z-index: -1;}#sk-container-id-1 div.sk-parallel-item {display: flex;flex-direction: column;z-index: 1;position: relative;background-color: white;}#sk-container-id-1 div.sk-parallel-item:first-child::after {align-self: flex-end;width: 50%;}#sk-container-id-1 div.sk-parallel-item:last-child::after {align-self: flex-start;width: 50%;}#sk-container-id-1 div.sk-parallel-item:only-child::after {width: 0;}#sk-container-id-1 div.sk-dashed-wrapped {border: 1px dashed gray;margin: 0 0.4em 0.5em 0.4em;box-sizing: border-box;padding-bottom: 0.4em;background-color: white;}#sk-container-id-1 div.sk-label label {font-family: monospace;font-weight: bold;display: inline-block;line-height: 1.2em;}#sk-container-id-1 div.sk-label-container {text-align: center;}#sk-container-id-1 div.sk-container {/* jupyter's `normalize.less` sets `[hidden] { display: none; }` but bootstrap.min.css set `[hidden] { display: none !important; }` so we also need the `!important` here to be able to override the default hidden behavior on the sphinx rendered scikit-learn.org. See: https://github.com/scikit-learn/scikit-learn/issues/21755 */display: inline-block !important;position: relative;}#sk-container-id-1 div.sk-text-repr-fallback {display: none;}</style><div id=\"sk-container-id-1\" class=\"sk-top-container\"><div class=\"sk-text-repr-fallback\"><pre>LogisticRegression(C=10, penalty=&#x27;l1&#x27;, solver=&#x27;liblinear&#x27;)</pre><b>In a Jupyter environment, please rerun this cell to show the HTML representation or trust the notebook. <br />On GitHub, the HTML representation is unable to render, please try loading this page with nbviewer.org.</b></div><div class=\"sk-container\" hidden><div class=\"sk-item\"><div class=\"sk-estimator sk-toggleable\"><input class=\"sk-toggleable__control sk-hidden--visually\" id=\"sk-estimator-id-1\" type=\"checkbox\" checked><label for=\"sk-estimator-id-1\" class=\"sk-toggleable__label sk-toggleable__label-arrow\">LogisticRegression</label><div class=\"sk-toggleable__content\"><pre>LogisticRegression(C=10, penalty=&#x27;l1&#x27;, solver=&#x27;liblinear&#x27;)</pre></div></div></div></div></div>"
      ],
      "text/plain": [
       "LogisticRegression(C=10, penalty='l1', solver='liblinear')"
      ]
     },
     "execution_count": 23,
     "metadata": {},
     "output_type": "execute_result"
    }
   ],
   "source": [
    "# train a logistic regression model on the training set\n",
    "from sklearn.linear_model import LogisticRegression\n",
    "\n",
    "\n",
    "# instantiate the model\n",
    "logreg = LogisticRegression(solver='liblinear', C=10, max_iter=100,penalty='l1')\n",
    "\n",
    "\n",
    "# fit the model\n",
    "logreg.fit(dum,y_train)"
   ]
  },
  {
   "cell_type": "code",
   "execution_count": 24,
   "id": "462429ce-8eac-4587-a357-ed18510474dc",
   "metadata": {},
   "outputs": [],
   "source": [
    "X_test=pd.read_csv(\"./x_test.csv\")"
   ]
  },
  {
   "cell_type": "code",
   "execution_count": 25,
   "id": "d803d805-a30f-4752-9d5c-6f2b12369153",
   "metadata": {},
   "outputs": [
    {
     "data": {
      "text/plain": [
       "array([0, 0, 0, ..., 0, 0, 0], dtype=int64)"
      ]
     },
     "execution_count": 25,
     "metadata": {},
     "output_type": "execute_result"
    }
   ],
   "source": [
    "y_pred_test = logreg.predict(X_test)\n",
    "\n",
    "y_pred_test"
   ]
  },
  {
   "cell_type": "code",
   "execution_count": 26,
   "id": "174e106d-4604-4285-95d5-72ac193039be",
   "metadata": {},
   "outputs": [],
   "source": [
    "proba=logreg.predict_proba(X_test)[:,1]"
   ]
  },
  {
   "cell_type": "code",
   "execution_count": 27,
   "id": "98a24611-8cff-4fac-b105-af9cae6813bb",
   "metadata": {},
   "outputs": [],
   "source": [
    "answers= pd.DataFrame(proba)"
   ]
  },
  {
   "cell_type": "code",
   "execution_count": 28,
   "id": "6af6537c-b344-44bf-a941-feb007e282d4",
   "metadata": {},
   "outputs": [
    {
     "ename": "FileNotFoundError",
     "evalue": "[Errno 2] No such file or directory: 'C:\\\\Users\\\\aavul\\\\Desktop\\\\jupyter notebook\\\\PROBABILITIES.csv'",
     "output_type": "error",
     "traceback": [
      "\u001b[1;31m---------------------------------------------------------------------------\u001b[0m",
      "\u001b[1;31mFileNotFoundError\u001b[0m                         Traceback (most recent call last)",
      "Cell \u001b[1;32mIn[28], line 3\u001b[0m\n\u001b[0;32m      1\u001b[0m \u001b[38;5;66;03m# Define the file path to the existing CSV file\u001b[39;00m\n\u001b[0;32m      2\u001b[0m file_path \u001b[38;5;241m=\u001b[39m\u001b[38;5;124mr\u001b[39m\u001b[38;5;124m\"\u001b[39m\u001b[38;5;124mC:\u001b[39m\u001b[38;5;124m\\\u001b[39m\u001b[38;5;124mUsers\u001b[39m\u001b[38;5;124m\\\u001b[39m\u001b[38;5;124maavul\u001b[39m\u001b[38;5;124m\\\u001b[39m\u001b[38;5;124mDesktop\u001b[39m\u001b[38;5;124m\\\u001b[39m\u001b[38;5;124mjupyter notebook\u001b[39m\u001b[38;5;124m\\\u001b[39m\u001b[38;5;124mPROBABILITIES.csv\u001b[39m\u001b[38;5;124m\"\u001b[39m\n\u001b[1;32m----> 3\u001b[0m existing_data \u001b[38;5;241m=\u001b[39m \u001b[43mpd\u001b[49m\u001b[38;5;241;43m.\u001b[39;49m\u001b[43mread_csv\u001b[49m\u001b[43m(\u001b[49m\u001b[43mfile_path\u001b[49m\u001b[43m)\u001b[49m\n\u001b[0;32m      7\u001b[0m existing_data[\u001b[38;5;124m'\u001b[39m\u001b[38;5;124mstroke\u001b[39m\u001b[38;5;124m'\u001b[39m] \u001b[38;5;241m=\u001b[39manswers\n\u001b[0;32m     10\u001b[0m existing_data\u001b[38;5;241m.\u001b[39mto_csv(file_path, index\u001b[38;5;241m=\u001b[39m\u001b[38;5;28;01mFalse\u001b[39;00m)\n",
      "File \u001b[1;32m~\\AppData\\Local\\Programs\\Python\\Python311\\Lib\\site-packages\\pandas\\io\\parsers\\readers.py:912\u001b[0m, in \u001b[0;36mread_csv\u001b[1;34m(filepath_or_buffer, sep, delimiter, header, names, index_col, usecols, dtype, engine, converters, true_values, false_values, skipinitialspace, skiprows, skipfooter, nrows, na_values, keep_default_na, na_filter, verbose, skip_blank_lines, parse_dates, infer_datetime_format, keep_date_col, date_parser, date_format, dayfirst, cache_dates, iterator, chunksize, compression, thousands, decimal, lineterminator, quotechar, quoting, doublequote, escapechar, comment, encoding, encoding_errors, dialect, on_bad_lines, delim_whitespace, low_memory, memory_map, float_precision, storage_options, dtype_backend)\u001b[0m\n\u001b[0;32m    899\u001b[0m kwds_defaults \u001b[38;5;241m=\u001b[39m _refine_defaults_read(\n\u001b[0;32m    900\u001b[0m     dialect,\n\u001b[0;32m    901\u001b[0m     delimiter,\n\u001b[1;32m   (...)\u001b[0m\n\u001b[0;32m    908\u001b[0m     dtype_backend\u001b[38;5;241m=\u001b[39mdtype_backend,\n\u001b[0;32m    909\u001b[0m )\n\u001b[0;32m    910\u001b[0m kwds\u001b[38;5;241m.\u001b[39mupdate(kwds_defaults)\n\u001b[1;32m--> 912\u001b[0m \u001b[38;5;28;01mreturn\u001b[39;00m \u001b[43m_read\u001b[49m\u001b[43m(\u001b[49m\u001b[43mfilepath_or_buffer\u001b[49m\u001b[43m,\u001b[49m\u001b[43m \u001b[49m\u001b[43mkwds\u001b[49m\u001b[43m)\u001b[49m\n",
      "File \u001b[1;32m~\\AppData\\Local\\Programs\\Python\\Python311\\Lib\\site-packages\\pandas\\io\\parsers\\readers.py:577\u001b[0m, in \u001b[0;36m_read\u001b[1;34m(filepath_or_buffer, kwds)\u001b[0m\n\u001b[0;32m    574\u001b[0m _validate_names(kwds\u001b[38;5;241m.\u001b[39mget(\u001b[38;5;124m\"\u001b[39m\u001b[38;5;124mnames\u001b[39m\u001b[38;5;124m\"\u001b[39m, \u001b[38;5;28;01mNone\u001b[39;00m))\n\u001b[0;32m    576\u001b[0m \u001b[38;5;66;03m# Create the parser.\u001b[39;00m\n\u001b[1;32m--> 577\u001b[0m parser \u001b[38;5;241m=\u001b[39m \u001b[43mTextFileReader\u001b[49m\u001b[43m(\u001b[49m\u001b[43mfilepath_or_buffer\u001b[49m\u001b[43m,\u001b[49m\u001b[43m \u001b[49m\u001b[38;5;241;43m*\u001b[39;49m\u001b[38;5;241;43m*\u001b[39;49m\u001b[43mkwds\u001b[49m\u001b[43m)\u001b[49m\n\u001b[0;32m    579\u001b[0m \u001b[38;5;28;01mif\u001b[39;00m chunksize \u001b[38;5;129;01mor\u001b[39;00m iterator:\n\u001b[0;32m    580\u001b[0m     \u001b[38;5;28;01mreturn\u001b[39;00m parser\n",
      "File \u001b[1;32m~\\AppData\\Local\\Programs\\Python\\Python311\\Lib\\site-packages\\pandas\\io\\parsers\\readers.py:1407\u001b[0m, in \u001b[0;36mTextFileReader.__init__\u001b[1;34m(self, f, engine, **kwds)\u001b[0m\n\u001b[0;32m   1404\u001b[0m     \u001b[38;5;28mself\u001b[39m\u001b[38;5;241m.\u001b[39moptions[\u001b[38;5;124m\"\u001b[39m\u001b[38;5;124mhas_index_names\u001b[39m\u001b[38;5;124m\"\u001b[39m] \u001b[38;5;241m=\u001b[39m kwds[\u001b[38;5;124m\"\u001b[39m\u001b[38;5;124mhas_index_names\u001b[39m\u001b[38;5;124m\"\u001b[39m]\n\u001b[0;32m   1406\u001b[0m \u001b[38;5;28mself\u001b[39m\u001b[38;5;241m.\u001b[39mhandles: IOHandles \u001b[38;5;241m|\u001b[39m \u001b[38;5;28;01mNone\u001b[39;00m \u001b[38;5;241m=\u001b[39m \u001b[38;5;28;01mNone\u001b[39;00m\n\u001b[1;32m-> 1407\u001b[0m \u001b[38;5;28mself\u001b[39m\u001b[38;5;241m.\u001b[39m_engine \u001b[38;5;241m=\u001b[39m \u001b[38;5;28;43mself\u001b[39;49m\u001b[38;5;241;43m.\u001b[39;49m\u001b[43m_make_engine\u001b[49m\u001b[43m(\u001b[49m\u001b[43mf\u001b[49m\u001b[43m,\u001b[49m\u001b[43m \u001b[49m\u001b[38;5;28;43mself\u001b[39;49m\u001b[38;5;241;43m.\u001b[39;49m\u001b[43mengine\u001b[49m\u001b[43m)\u001b[49m\n",
      "File \u001b[1;32m~\\AppData\\Local\\Programs\\Python\\Python311\\Lib\\site-packages\\pandas\\io\\parsers\\readers.py:1661\u001b[0m, in \u001b[0;36mTextFileReader._make_engine\u001b[1;34m(self, f, engine)\u001b[0m\n\u001b[0;32m   1659\u001b[0m     \u001b[38;5;28;01mif\u001b[39;00m \u001b[38;5;124m\"\u001b[39m\u001b[38;5;124mb\u001b[39m\u001b[38;5;124m\"\u001b[39m \u001b[38;5;129;01mnot\u001b[39;00m \u001b[38;5;129;01min\u001b[39;00m mode:\n\u001b[0;32m   1660\u001b[0m         mode \u001b[38;5;241m+\u001b[39m\u001b[38;5;241m=\u001b[39m \u001b[38;5;124m\"\u001b[39m\u001b[38;5;124mb\u001b[39m\u001b[38;5;124m\"\u001b[39m\n\u001b[1;32m-> 1661\u001b[0m \u001b[38;5;28mself\u001b[39m\u001b[38;5;241m.\u001b[39mhandles \u001b[38;5;241m=\u001b[39m \u001b[43mget_handle\u001b[49m\u001b[43m(\u001b[49m\n\u001b[0;32m   1662\u001b[0m \u001b[43m    \u001b[49m\u001b[43mf\u001b[49m\u001b[43m,\u001b[49m\n\u001b[0;32m   1663\u001b[0m \u001b[43m    \u001b[49m\u001b[43mmode\u001b[49m\u001b[43m,\u001b[49m\n\u001b[0;32m   1664\u001b[0m \u001b[43m    \u001b[49m\u001b[43mencoding\u001b[49m\u001b[38;5;241;43m=\u001b[39;49m\u001b[38;5;28;43mself\u001b[39;49m\u001b[38;5;241;43m.\u001b[39;49m\u001b[43moptions\u001b[49m\u001b[38;5;241;43m.\u001b[39;49m\u001b[43mget\u001b[49m\u001b[43m(\u001b[49m\u001b[38;5;124;43m\"\u001b[39;49m\u001b[38;5;124;43mencoding\u001b[39;49m\u001b[38;5;124;43m\"\u001b[39;49m\u001b[43m,\u001b[49m\u001b[43m \u001b[49m\u001b[38;5;28;43;01mNone\u001b[39;49;00m\u001b[43m)\u001b[49m\u001b[43m,\u001b[49m\n\u001b[0;32m   1665\u001b[0m \u001b[43m    \u001b[49m\u001b[43mcompression\u001b[49m\u001b[38;5;241;43m=\u001b[39;49m\u001b[38;5;28;43mself\u001b[39;49m\u001b[38;5;241;43m.\u001b[39;49m\u001b[43moptions\u001b[49m\u001b[38;5;241;43m.\u001b[39;49m\u001b[43mget\u001b[49m\u001b[43m(\u001b[49m\u001b[38;5;124;43m\"\u001b[39;49m\u001b[38;5;124;43mcompression\u001b[39;49m\u001b[38;5;124;43m\"\u001b[39;49m\u001b[43m,\u001b[49m\u001b[43m \u001b[49m\u001b[38;5;28;43;01mNone\u001b[39;49;00m\u001b[43m)\u001b[49m\u001b[43m,\u001b[49m\n\u001b[0;32m   1666\u001b[0m \u001b[43m    \u001b[49m\u001b[43mmemory_map\u001b[49m\u001b[38;5;241;43m=\u001b[39;49m\u001b[38;5;28;43mself\u001b[39;49m\u001b[38;5;241;43m.\u001b[39;49m\u001b[43moptions\u001b[49m\u001b[38;5;241;43m.\u001b[39;49m\u001b[43mget\u001b[49m\u001b[43m(\u001b[49m\u001b[38;5;124;43m\"\u001b[39;49m\u001b[38;5;124;43mmemory_map\u001b[39;49m\u001b[38;5;124;43m\"\u001b[39;49m\u001b[43m,\u001b[49m\u001b[43m \u001b[49m\u001b[38;5;28;43;01mFalse\u001b[39;49;00m\u001b[43m)\u001b[49m\u001b[43m,\u001b[49m\n\u001b[0;32m   1667\u001b[0m \u001b[43m    \u001b[49m\u001b[43mis_text\u001b[49m\u001b[38;5;241;43m=\u001b[39;49m\u001b[43mis_text\u001b[49m\u001b[43m,\u001b[49m\n\u001b[0;32m   1668\u001b[0m \u001b[43m    \u001b[49m\u001b[43merrors\u001b[49m\u001b[38;5;241;43m=\u001b[39;49m\u001b[38;5;28;43mself\u001b[39;49m\u001b[38;5;241;43m.\u001b[39;49m\u001b[43moptions\u001b[49m\u001b[38;5;241;43m.\u001b[39;49m\u001b[43mget\u001b[49m\u001b[43m(\u001b[49m\u001b[38;5;124;43m\"\u001b[39;49m\u001b[38;5;124;43mencoding_errors\u001b[39;49m\u001b[38;5;124;43m\"\u001b[39;49m\u001b[43m,\u001b[49m\u001b[43m \u001b[49m\u001b[38;5;124;43m\"\u001b[39;49m\u001b[38;5;124;43mstrict\u001b[39;49m\u001b[38;5;124;43m\"\u001b[39;49m\u001b[43m)\u001b[49m\u001b[43m,\u001b[49m\n\u001b[0;32m   1669\u001b[0m \u001b[43m    \u001b[49m\u001b[43mstorage_options\u001b[49m\u001b[38;5;241;43m=\u001b[39;49m\u001b[38;5;28;43mself\u001b[39;49m\u001b[38;5;241;43m.\u001b[39;49m\u001b[43moptions\u001b[49m\u001b[38;5;241;43m.\u001b[39;49m\u001b[43mget\u001b[49m\u001b[43m(\u001b[49m\u001b[38;5;124;43m\"\u001b[39;49m\u001b[38;5;124;43mstorage_options\u001b[39;49m\u001b[38;5;124;43m\"\u001b[39;49m\u001b[43m,\u001b[49m\u001b[43m \u001b[49m\u001b[38;5;28;43;01mNone\u001b[39;49;00m\u001b[43m)\u001b[49m\u001b[43m,\u001b[49m\n\u001b[0;32m   1670\u001b[0m \u001b[43m\u001b[49m\u001b[43m)\u001b[49m\n\u001b[0;32m   1671\u001b[0m \u001b[38;5;28;01massert\u001b[39;00m \u001b[38;5;28mself\u001b[39m\u001b[38;5;241m.\u001b[39mhandles \u001b[38;5;129;01mis\u001b[39;00m \u001b[38;5;129;01mnot\u001b[39;00m \u001b[38;5;28;01mNone\u001b[39;00m\n\u001b[0;32m   1672\u001b[0m f \u001b[38;5;241m=\u001b[39m \u001b[38;5;28mself\u001b[39m\u001b[38;5;241m.\u001b[39mhandles\u001b[38;5;241m.\u001b[39mhandle\n",
      "File \u001b[1;32m~\\AppData\\Local\\Programs\\Python\\Python311\\Lib\\site-packages\\pandas\\io\\common.py:859\u001b[0m, in \u001b[0;36mget_handle\u001b[1;34m(path_or_buf, mode, encoding, compression, memory_map, is_text, errors, storage_options)\u001b[0m\n\u001b[0;32m    854\u001b[0m \u001b[38;5;28;01melif\u001b[39;00m \u001b[38;5;28misinstance\u001b[39m(handle, \u001b[38;5;28mstr\u001b[39m):\n\u001b[0;32m    855\u001b[0m     \u001b[38;5;66;03m# Check whether the filename is to be opened in binary mode.\u001b[39;00m\n\u001b[0;32m    856\u001b[0m     \u001b[38;5;66;03m# Binary mode does not support 'encoding' and 'newline'.\u001b[39;00m\n\u001b[0;32m    857\u001b[0m     \u001b[38;5;28;01mif\u001b[39;00m ioargs\u001b[38;5;241m.\u001b[39mencoding \u001b[38;5;129;01mand\u001b[39;00m \u001b[38;5;124m\"\u001b[39m\u001b[38;5;124mb\u001b[39m\u001b[38;5;124m\"\u001b[39m \u001b[38;5;129;01mnot\u001b[39;00m \u001b[38;5;129;01min\u001b[39;00m ioargs\u001b[38;5;241m.\u001b[39mmode:\n\u001b[0;32m    858\u001b[0m         \u001b[38;5;66;03m# Encoding\u001b[39;00m\n\u001b[1;32m--> 859\u001b[0m         handle \u001b[38;5;241m=\u001b[39m \u001b[38;5;28;43mopen\u001b[39;49m\u001b[43m(\u001b[49m\n\u001b[0;32m    860\u001b[0m \u001b[43m            \u001b[49m\u001b[43mhandle\u001b[49m\u001b[43m,\u001b[49m\n\u001b[0;32m    861\u001b[0m \u001b[43m            \u001b[49m\u001b[43mioargs\u001b[49m\u001b[38;5;241;43m.\u001b[39;49m\u001b[43mmode\u001b[49m\u001b[43m,\u001b[49m\n\u001b[0;32m    862\u001b[0m \u001b[43m            \u001b[49m\u001b[43mencoding\u001b[49m\u001b[38;5;241;43m=\u001b[39;49m\u001b[43mioargs\u001b[49m\u001b[38;5;241;43m.\u001b[39;49m\u001b[43mencoding\u001b[49m\u001b[43m,\u001b[49m\n\u001b[0;32m    863\u001b[0m \u001b[43m            \u001b[49m\u001b[43merrors\u001b[49m\u001b[38;5;241;43m=\u001b[39;49m\u001b[43merrors\u001b[49m\u001b[43m,\u001b[49m\n\u001b[0;32m    864\u001b[0m \u001b[43m            \u001b[49m\u001b[43mnewline\u001b[49m\u001b[38;5;241;43m=\u001b[39;49m\u001b[38;5;124;43m\"\u001b[39;49m\u001b[38;5;124;43m\"\u001b[39;49m\u001b[43m,\u001b[49m\n\u001b[0;32m    865\u001b[0m \u001b[43m        \u001b[49m\u001b[43m)\u001b[49m\n\u001b[0;32m    866\u001b[0m     \u001b[38;5;28;01melse\u001b[39;00m:\n\u001b[0;32m    867\u001b[0m         \u001b[38;5;66;03m# Binary mode\u001b[39;00m\n\u001b[0;32m    868\u001b[0m         handle \u001b[38;5;241m=\u001b[39m \u001b[38;5;28mopen\u001b[39m(handle, ioargs\u001b[38;5;241m.\u001b[39mmode)\n",
      "\u001b[1;31mFileNotFoundError\u001b[0m: [Errno 2] No such file or directory: 'C:\\\\Users\\\\aavul\\\\Desktop\\\\jupyter notebook\\\\PROBABILITIES.csv'"
     ]
    }
   ],
   "source": [
    "# Define the file path to the existing CSV file\n",
    "file_path =r\"C:\\Users\\aavul\\Desktop\\jupyter notebook\\PROBABILITIES.csv\"\n",
    "existing_data = pd.read_csv(file_path)\n",
    "\n",
    "\n",
    "\n",
    "existing_data['stroke'] =answers\n",
    "\n",
    "\n",
    "existing_data.to_csv(file_path, index=False)\n",
    "\n",
    "print(f\"CSV file '{file_path}' updated with new data in the second column.\")"
   ]
  },
  {
   "cell_type": "code",
   "execution_count": null,
   "id": "6893b570-acf5-455f-bca6-50024643b5d6",
   "metadata": {},
   "outputs": [],
   "source": [
    "import numpy as np\n",
    "from sklearn.model_selection import GridSearchCV\n",
    "from sklearn.linear_model import LogisticRegression\n",
    "\n",
    "# Define the hyperparameters and their possible values\n",
    "param_grid = {\n",
    "               # Regularization type\n",
    "    'C': [0.01,0.1,1,10],  # Inverse of regularization strength\n",
    "    'solver': ['liblinear','newton-cg','lbfgs','saga']  ,\n",
    "    # Optimization algorithm\n",
    "    \n",
    "    'max_iter':[100,1000,10000],\n",
    "    'penalty':['l1','l2','elasticnet']\n",
    "}\n",
    "\n",
    "# Create a Logistic Regression model\n",
    "logistic_regression = LogisticRegression()\n",
    "\n",
    "# Create a GridSearchCV object with the Logistic Regression model and hyperparameter grid\n",
    "grid_search = GridSearchCV(logistic_regression, param_grid, cv=5, scoring='accuracy')\n",
    "\n",
    "# Assuming you have your data in X_train and y_train\n",
    "# Perform grid search on your data\n",
    "grid_search.fit(dum, array_1d)\n",
    "\n",
    "# Print the best hyperparameters found by grid search\n",
    "print(\"Best Hyperparameters: \", grid_search.best_params_)\n",
    "\n",
    "# Print the best cross-validation score\n",
    "print(\"Best Cross-Validation Score: {:.2f}\".format(grid_search.best_score_))\n",
    "\n",
    "# Get the best trained model\n",
    "best_model = grid_search.best_estimator_\n",
    "\n",
    "# Now, you can use the best model for predictions\n",
    "best_model"
   ]
  }
 ],
 "metadata": {
  "kernelspec": {
   "display_name": "Python 3 (ipykernel)",
   "language": "python",
   "name": "python3"
  },
  "language_info": {
   "codemirror_mode": {
    "name": "ipython",
    "version": 3
   },
   "file_extension": ".py",
   "mimetype": "text/x-python",
   "name": "python",
   "nbconvert_exporter": "python",
   "pygments_lexer": "ipython3",
   "version": "3.11.4"
  }
 },
 "nbformat": 4,
 "nbformat_minor": 5
}
